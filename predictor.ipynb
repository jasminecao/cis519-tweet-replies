{
 "cells": [
  {
   "cell_type": "markdown",
   "id": "ad7ac7b9",
   "metadata": {},
   "source": [
    "# Predicting the Sentiment of Tweet Replies"
   ]
  },
  {
   "cell_type": "markdown",
   "id": "03328288",
   "metadata": {},
   "source": [
    "## Installation"
   ]
  },
  {
   "cell_type": "code",
   "execution_count": 42,
   "id": "25572680",
   "metadata": {},
   "outputs": [
    {
     "name": "stdout",
     "output_type": "stream",
     "text": [
      "Requirement already satisfied: textblob in /home/ec2-user/anaconda3/envs/pytorch_latest_p36/lib/python3.6/site-packages (0.17.1)\r\n",
      "Requirement already satisfied: nltk>=3.1 in /home/ec2-user/anaconda3/envs/pytorch_latest_p36/lib/python3.6/site-packages (from textblob) (3.4.4)\r\n",
      "Requirement already satisfied: six in /home/ec2-user/anaconda3/envs/pytorch_latest_p36/lib/python3.6/site-packages (from nltk>=3.1->textblob) (1.15.0)\r\n"
     ]
    }
   ],
   "source": [
    "!pip install textblob"
   ]
  },
  {
   "cell_type": "code",
   "execution_count": 43,
   "id": "522bc532",
   "metadata": {},
   "outputs": [
    {
     "name": "stdout",
     "output_type": "stream",
     "text": [
      "Requirement already satisfied: transformers in /home/ec2-user/anaconda3/envs/pytorch_latest_p36/lib/python3.6/site-packages (4.18.0)\n",
      "Requirement already satisfied: tensorflow in /home/ec2-user/anaconda3/envs/pytorch_latest_p36/lib/python3.6/site-packages (2.6.2)\n",
      "Requirement already satisfied: huggingface-hub<1.0,>=0.1.0 in /home/ec2-user/anaconda3/envs/pytorch_latest_p36/lib/python3.6/site-packages (from transformers) (0.4.0)\n",
      "Requirement already satisfied: packaging>=20.0 in /home/ec2-user/anaconda3/envs/pytorch_latest_p36/lib/python3.6/site-packages (from transformers) (21.3)\n",
      "Requirement already satisfied: numpy>=1.17 in /home/ec2-user/anaconda3/envs/pytorch_latest_p36/lib/python3.6/site-packages (from transformers) (1.19.2)\n",
      "Requirement already satisfied: requests in /home/ec2-user/anaconda3/envs/pytorch_latest_p36/lib/python3.6/site-packages (from transformers) (2.26.0)\n",
      "Requirement already satisfied: tokenizers!=0.11.3,<0.13,>=0.11.1 in /home/ec2-user/anaconda3/envs/pytorch_latest_p36/lib/python3.6/site-packages (from transformers) (0.12.1)\n",
      "Requirement already satisfied: dataclasses in /home/ec2-user/anaconda3/envs/pytorch_latest_p36/lib/python3.6/site-packages (from transformers) (0.8)\n",
      "Requirement already satisfied: pyyaml>=5.1 in /home/ec2-user/anaconda3/envs/pytorch_latest_p36/lib/python3.6/site-packages (from transformers) (5.4.1)\n",
      "Requirement already satisfied: regex!=2019.12.17 in /home/ec2-user/anaconda3/envs/pytorch_latest_p36/lib/python3.6/site-packages (from transformers) (2020.11.13)\n",
      "Requirement already satisfied: tqdm>=4.27 in /home/ec2-user/anaconda3/envs/pytorch_latest_p36/lib/python3.6/site-packages (from transformers) (4.62.3)\n",
      "Requirement already satisfied: importlib-metadata in /home/ec2-user/anaconda3/envs/pytorch_latest_p36/lib/python3.6/site-packages (from transformers) (4.8.3)\n",
      "Requirement already satisfied: filelock in /home/ec2-user/anaconda3/envs/pytorch_latest_p36/lib/python3.6/site-packages (from transformers) (3.4.1)\n",
      "Requirement already satisfied: sacremoses in /home/ec2-user/anaconda3/envs/pytorch_latest_p36/lib/python3.6/site-packages (from transformers) (0.0.49)\n",
      "Requirement already satisfied: six~=1.15.0 in /home/ec2-user/anaconda3/envs/pytorch_latest_p36/lib/python3.6/site-packages (from tensorflow) (1.15.0)\n",
      "Requirement already satisfied: grpcio<2.0,>=1.37.0 in /home/ec2-user/anaconda3/envs/pytorch_latest_p36/lib/python3.6/site-packages (from tensorflow) (1.44.0)\n",
      "Requirement already satisfied: wheel~=0.35 in /home/ec2-user/anaconda3/envs/pytorch_latest_p36/lib/python3.6/site-packages (from tensorflow) (0.36.2)\n",
      "Requirement already satisfied: h5py~=3.1.0 in /home/ec2-user/anaconda3/envs/pytorch_latest_p36/lib/python3.6/site-packages (from tensorflow) (3.1.0)\n",
      "Requirement already satisfied: tensorboard<2.7,>=2.6.0 in /home/ec2-user/anaconda3/envs/pytorch_latest_p36/lib/python3.6/site-packages (from tensorflow) (2.6.0)\n",
      "Requirement already satisfied: astunparse~=1.6.3 in /home/ec2-user/anaconda3/envs/pytorch_latest_p36/lib/python3.6/site-packages (from tensorflow) (1.6.3)\n",
      "Requirement already satisfied: typing-extensions~=3.7.4 in /home/ec2-user/anaconda3/envs/pytorch_latest_p36/lib/python3.6/site-packages (from tensorflow) (3.7.4.3)\n",
      "Requirement already satisfied: wrapt~=1.12.1 in /home/ec2-user/anaconda3/envs/pytorch_latest_p36/lib/python3.6/site-packages (from tensorflow) (1.12.1)\n",
      "Requirement already satisfied: gast==0.4.0 in /home/ec2-user/anaconda3/envs/pytorch_latest_p36/lib/python3.6/site-packages (from tensorflow) (0.4.0)\n",
      "Requirement already satisfied: flatbuffers~=1.12.0 in /home/ec2-user/anaconda3/envs/pytorch_latest_p36/lib/python3.6/site-packages (from tensorflow) (1.12)\n",
      "Requirement already satisfied: protobuf>=3.9.2 in /home/ec2-user/anaconda3/envs/pytorch_latest_p36/lib/python3.6/site-packages (from tensorflow) (3.19.1)\n",
      "Requirement already satisfied: google-pasta~=0.2 in /home/ec2-user/anaconda3/envs/pytorch_latest_p36/lib/python3.6/site-packages (from tensorflow) (0.2.0)\n",
      "Requirement already satisfied: clang~=5.0 in /home/ec2-user/anaconda3/envs/pytorch_latest_p36/lib/python3.6/site-packages (from tensorflow) (5.0)\n",
      "Requirement already satisfied: tensorflow-estimator<2.7,>=2.6.0 in /home/ec2-user/anaconda3/envs/pytorch_latest_p36/lib/python3.6/site-packages (from tensorflow) (2.6.0)\n",
      "Requirement already satisfied: termcolor~=1.1.0 in /home/ec2-user/anaconda3/envs/pytorch_latest_p36/lib/python3.6/site-packages (from tensorflow) (1.1.0)\n",
      "Requirement already satisfied: keras<2.7,>=2.6.0 in /home/ec2-user/anaconda3/envs/pytorch_latest_p36/lib/python3.6/site-packages (from tensorflow) (2.6.0)\n",
      "Requirement already satisfied: keras-preprocessing~=1.1.2 in /home/ec2-user/anaconda3/envs/pytorch_latest_p36/lib/python3.6/site-packages (from tensorflow) (1.1.2)\n",
      "Requirement already satisfied: absl-py~=0.10 in /home/ec2-user/anaconda3/envs/pytorch_latest_p36/lib/python3.6/site-packages (from tensorflow) (0.15.0)\n",
      "Requirement already satisfied: opt-einsum~=3.3.0 in /home/ec2-user/anaconda3/envs/pytorch_latest_p36/lib/python3.6/site-packages (from tensorflow) (3.3.0)\n",
      "Requirement already satisfied: cached-property in /home/ec2-user/anaconda3/envs/pytorch_latest_p36/lib/python3.6/site-packages (from h5py~=3.1.0->tensorflow) (1.5.1)\n",
      "Requirement already satisfied: pyparsing!=3.0.5,>=2.0.2 in /home/ec2-user/anaconda3/envs/pytorch_latest_p36/lib/python3.6/site-packages (from packaging>=20.0->transformers) (2.4.7)\n",
      "Requirement already satisfied: google-auth-oauthlib<0.5,>=0.4.1 in /home/ec2-user/anaconda3/envs/pytorch_latest_p36/lib/python3.6/site-packages (from tensorboard<2.7,>=2.6.0->tensorflow) (0.4.6)\n",
      "Requirement already satisfied: google-auth<2,>=1.6.3 in /home/ec2-user/anaconda3/envs/pytorch_latest_p36/lib/python3.6/site-packages (from tensorboard<2.7,>=2.6.0->tensorflow) (1.35.0)\n",
      "Requirement already satisfied: tensorboard-data-server<0.7.0,>=0.6.0 in /home/ec2-user/anaconda3/envs/pytorch_latest_p36/lib/python3.6/site-packages (from tensorboard<2.7,>=2.6.0->tensorflow) (0.6.1)\n",
      "Requirement already satisfied: tensorboard-plugin-wit>=1.6.0 in /home/ec2-user/anaconda3/envs/pytorch_latest_p36/lib/python3.6/site-packages (from tensorboard<2.7,>=2.6.0->tensorflow) (1.8.1)\n",
      "Requirement already satisfied: setuptools>=41.0.0 in /home/ec2-user/anaconda3/envs/pytorch_latest_p36/lib/python3.6/site-packages (from tensorboard<2.7,>=2.6.0->tensorflow) (49.6.0.post20210108)\n",
      "Requirement already satisfied: werkzeug>=0.11.15 in /home/ec2-user/anaconda3/envs/pytorch_latest_p36/lib/python3.6/site-packages (from tensorboard<2.7,>=2.6.0->tensorflow) (2.0.2)\n",
      "Requirement already satisfied: markdown>=2.6.8 in /home/ec2-user/anaconda3/envs/pytorch_latest_p36/lib/python3.6/site-packages (from tensorboard<2.7,>=2.6.0->tensorflow) (3.3.6)\n",
      "Requirement already satisfied: idna<4,>=2.5 in /home/ec2-user/anaconda3/envs/pytorch_latest_p36/lib/python3.6/site-packages (from requests->transformers) (3.1)\n",
      "Requirement already satisfied: certifi>=2017.4.17 in /home/ec2-user/anaconda3/envs/pytorch_latest_p36/lib/python3.6/site-packages (from requests->transformers) (2021.5.30)\n",
      "Requirement already satisfied: charset-normalizer~=2.0.0 in /home/ec2-user/anaconda3/envs/pytorch_latest_p36/lib/python3.6/site-packages (from requests->transformers) (2.0.9)\n",
      "Requirement already satisfied: urllib3<1.27,>=1.21.1 in /home/ec2-user/anaconda3/envs/pytorch_latest_p36/lib/python3.6/site-packages (from requests->transformers) (1.26.8)\n",
      "Requirement already satisfied: zipp>=0.5 in /home/ec2-user/anaconda3/envs/pytorch_latest_p36/lib/python3.6/site-packages (from importlib-metadata->transformers) (3.4.0)\n",
      "Requirement already satisfied: click in /home/ec2-user/anaconda3/envs/pytorch_latest_p36/lib/python3.6/site-packages (from sacremoses->transformers) (7.1.2)\n",
      "Requirement already satisfied: joblib in /home/ec2-user/anaconda3/envs/pytorch_latest_p36/lib/python3.6/site-packages (from sacremoses->transformers) (1.0.1)\n",
      "Requirement already satisfied: pyasn1-modules>=0.2.1 in /home/ec2-user/anaconda3/envs/pytorch_latest_p36/lib/python3.6/site-packages (from google-auth<2,>=1.6.3->tensorboard<2.7,>=2.6.0->tensorflow) (0.2.8)\n",
      "Requirement already satisfied: cachetools<5.0,>=2.0.0 in /home/ec2-user/anaconda3/envs/pytorch_latest_p36/lib/python3.6/site-packages (from google-auth<2,>=1.6.3->tensorboard<2.7,>=2.6.0->tensorflow) (4.2.4)\n",
      "Requirement already satisfied: rsa<5,>=3.1.4 in /home/ec2-user/anaconda3/envs/pytorch_latest_p36/lib/python3.6/site-packages (from google-auth<2,>=1.6.3->tensorboard<2.7,>=2.6.0->tensorflow) (4.7.2)\n",
      "Requirement already satisfied: requests-oauthlib>=0.7.0 in /home/ec2-user/anaconda3/envs/pytorch_latest_p36/lib/python3.6/site-packages (from google-auth-oauthlib<0.5,>=0.4.1->tensorboard<2.7,>=2.6.0->tensorflow) (1.3.1)\n",
      "Requirement already satisfied: pyasn1<0.5.0,>=0.4.6 in /home/ec2-user/anaconda3/envs/pytorch_latest_p36/lib/python3.6/site-packages (from pyasn1-modules>=0.2.1->google-auth<2,>=1.6.3->tensorboard<2.7,>=2.6.0->tensorflow) (0.4.8)\r\n",
      "Requirement already satisfied: oauthlib>=3.0.0 in /home/ec2-user/anaconda3/envs/pytorch_latest_p36/lib/python3.6/site-packages (from requests-oauthlib>=0.7.0->google-auth-oauthlib<0.5,>=0.4.1->tensorboard<2.7,>=2.6.0->tensorflow) (3.2.0)\r\n"
     ]
    }
   ],
   "source": [
    "!pip install transformers tensorflow"
   ]
  },
  {
   "cell_type": "markdown",
   "id": "b4ca51e6",
   "metadata": {},
   "source": [
    "## Data Preprocessing"
   ]
  },
  {
   "cell_type": "code",
   "execution_count": 44,
   "id": "2f995fb4",
   "metadata": {},
   "outputs": [
    {
     "name": "stderr",
     "output_type": "stream",
     "text": [
      "[nltk_data] Downloading package stopwords to\n",
      "[nltk_data]     /home/ec2-user/nltk_data...\n",
      "[nltk_data]   Package stopwords is already up-to-date!\n"
     ]
    }
   ],
   "source": [
    "import re\n",
    "import pandas as pd\n",
    "import nltk\n",
    "import string\n",
    "from plotly import graph_objects as go\n",
    "import numpy as np\n",
    "\n",
    "nltk.download(\"stopwords\")\n",
    "stopword_list = nltk.corpus.stopwords.words(\"english\")\n",
    "\n",
    "\n",
    "def read_file(filename):\n",
    "    \"\"\"\n",
    "    Converts given text file into dataframe with cols of label and\n",
    "    (positive, negative, neutral)\n",
    "    \"\"\"\n",
    "    tweet_df = pd.read_csv(filename, sep=\"\\t\", lineterminator=\"\\n\")\n",
    "    tweet_df.columns = [\"label\", \"tweet\"]\n",
    "    return tweet_df\n",
    "\n",
    "\n",
    "def clean_tweet(tweet):\n",
    "    \"\"\"\n",
    "    tweet: string\n",
    "    returns: cleaned tweet (string)\n",
    "    \"\"\"\n",
    "    tweet = tweet.lower()\n",
    "    # remove punctuation\n",
    "    tweet = \"\".join([c for c in tweet if c not in string.punctuation])\n",
    "    # remove stop words\n",
    "    tweet = \"\".join([(c + \" \") for c in tweet.split(\" \") if c not in stopword_list])\n",
    "    # remove all @mentions\n",
    "    tweet = re.sub(r\"(@.*?)[\\s]\", \" \", tweet)\n",
    "    # remove twitter URL at end of tweet (https://t.co/...)\n",
    "    tweet = re.sub(\"http[s]?://\\S+\", \"\", tweet)\n",
    "    return tweet\n",
    "\n",
    "\n",
    "def visualize_tweets(tweet_df):\n",
    "    \"\"\"\n",
    "    tweet_df: dataframe\n",
    "    \"\"\"\n",
    "    index = [\"negative\", \"neutral\", \"positive\"]\n",
    "\n",
    "    tweet_u, tweet_counts = np.unique(tweet_df[\"label\"], return_counts=True)\n",
    "    text = [round(x / len(tweet_df), 3) for x in tweet_counts]\n",
    "    fig = go.Figure(\n",
    "        data=[\n",
    "            go.Bar(\n",
    "                name=\"Tweets\",\n",
    "                x=index,\n",
    "                y=tweet_counts / len(tweet_df),\n",
    "                text=text,\n",
    "            ),\n",
    "        ],\n",
    "        layout=go.Layout(\n",
    "            title=\"Proportion of Tweets by Sentiment\",\n",
    "            yaxis_title=\"Proportion of Total Tweets\",\n",
    "        ),\n",
    "    )\n",
    "    fig.show()\n",
    "\n",
    "\n",
    "def preprocess_tweets(filename):\n",
    "    tweet_df = read_file(filename)\n",
    "    tweet_df[\"tweet\"] = tweet_df[\"tweet\"].apply(clean_tweet)\n",
    "    return tweet_df"
   ]
  },
  {
   "cell_type": "code",
   "execution_count": 45,
   "id": "b77b5a60",
   "metadata": {},
   "outputs": [
    {
     "name": "stderr",
     "output_type": "stream",
     "text": [
      "[nltk_data] Downloading package vader_lexicon to\n",
      "[nltk_data]     /home/ec2-user/nltk_data...\n",
      "[nltk_data]   Package vader_lexicon is already up-to-date!\n"
     ]
    }
   ],
   "source": [
    "import nltk\n",
    "from textblob import TextBlob\n",
    "from sklearn.ensemble import RandomForestClassifier\n",
    "from sklearn.model_selection import train_test_split\n",
    "from nltk.sentiment.vader import SentimentIntensityAnalyzer\n",
    "\n",
    "nltk.download(\"vader_lexicon\")\n",
    "\n",
    "label_dict = {\"negative\": 0, \"positive\": 1, \"neutral\": 2}\n",
    "\n",
    "def extract_features(filename):\n",
    "    tweets_df = preprocess_tweets(filename)\n",
    "\n",
    "    sid = SentimentIntensityAnalyzer()\n",
    "    tweets_df[\"sentiment\"] = tweets_df[\"tweet\"].apply(\n",
    "        lambda x: sid.polarity_scores(x).get(\"compound\")\n",
    "    )\n",
    "    tweets_df[\"subjectivity\"] = tweets_df[\"tweet\"].apply(\n",
    "        lambda x: TextBlob(x).sentiment.subjectivity\n",
    "    )\n",
    "    tweets_df[\"num_tokens\"] = tweets_df[\"tweet\"].apply(lambda x: len(x.split(\" \")))\n",
    "    tweets_df[\"label\"] = tweets_df[\"label\"].apply(lambda x : label_dict[x])\n",
    "\n",
    "    return tweets_df"
   ]
  },
  {
   "cell_type": "code",
   "execution_count": 46,
   "id": "2d09e778",
   "metadata": {},
   "outputs": [],
   "source": [
    "train_tweets_df = extract_features(\"final_tweets_training.txt\")\n",
    "test_tweets_df = extract_features(\"final_tweets_test.txt\")"
   ]
  },
  {
   "cell_type": "markdown",
   "id": "8ccb3ac0",
   "metadata": {},
   "source": [
    "## Baseline Predictor"
   ]
  },
  {
   "cell_type": "code",
   "execution_count": 67,
   "id": "302dc5ac",
   "metadata": {},
   "outputs": [
    {
     "data": {
      "text/plain": [
       "(0.34954098157596203, 0.35180613058836935)"
      ]
     },
     "execution_count": 67,
     "metadata": {},
     "output_type": "execute_result"
    },
    {
     "data": {
      "image/png": "[encoded data removed]",
      "text/plain": [
       "<Figure size 432x288 with 2 Axes>"
      ]
     },
     "metadata": {
      "needs_background": "light"
     },
     "output_type": "display_data"
    }
   ],
   "source": [
    "from sklearn.metrics import confusion_matrix\n",
    "from sklearn.metrics import f1_score\n",
    "import seaborn as sns\n",
    "\n",
    "def get_sentiment_label(x):\n",
    "    if (x < -0.3):\n",
    "        return 0\n",
    "    if (x > 0.3):\n",
    "        return 1\n",
    "    else:\n",
    "        return 2\n",
    "\n",
    "def baseline_predictor():\n",
    "    tweets_df = extract_features(\"final_tweets_training.txt\")\n",
    "    tweets_df[\"prediction\"] = tweets_df[\"sentiment\"].apply(get_sentiment_label)\n",
    "    correct_prediction = tweets_df[tweets_df[\"prediction\"] == tweets_df[\"label\"]]\n",
    "    accuracy = len(correct_prediction) / len(tweets_df)\n",
    "\n",
    "    cm = confusion_matrix(tweets_df[\"label\"], tweets_df[\"prediction\"])\n",
    "    f = sns.heatmap(cm, annot=True, fmt='d')\n",
    "\n",
    "    f1 = f1_score(tweets_df[\"label\"], tweets_df[\"prediction\"], average=\"macro\")\n",
    "    \n",
    "    return f1, accuracy\n",
    "\n",
    "baseline_predictor()"
   ]
  },
  {
   "cell_type": "code",
   "execution_count": 68,
   "id": "e5b6f6c9",
   "metadata": {},
   "outputs": [
    {
     "name": "stdout",
     "output_type": "stream",
     "text": [
      "Accuracy: 0.391 %.\n",
      "F1: 0.378 %.\n"
     ]
    }
   ],
   "source": [
    "from sklearn.metrics import accuracy_score\n",
    "\n",
    "def train_rf_model():\n",
    "    train_features_df = train_tweets_df.drop([\"label\", \"tweet\"], axis=1)\n",
    "    test_features_df = test_tweets_df.drop([\"label\", \"tweet\"], axis=1)\n",
    "    train_features, train_labels = train_features_df, train_tweets_df[\"label\"]\n",
    "    test_features, test_labels = test_features_df, test_tweets_df[\"label\"]\n",
    "\n",
    "    rf = RandomForestClassifier(n_estimators=100, random_state=42)\n",
    "    rf.fit(train_features, train_labels)\n",
    "\n",
    "    y_pred = rf.predict(test_features)\n",
    "    accuracy = accuracy_score(test_labels, y_pred)\n",
    "    f1 = f1_score(test_labels, y_pred, average=\"macro\")\n",
    "    print('Accuracy:', round(accuracy, 3), '%.')\n",
    "    print('F1:', round(f1, 3), '%.')\n",
    "\n",
    "train_rf_model()"
   ]
  },
  {
   "cell_type": "markdown",
   "id": "9c09e231",
   "metadata": {},
   "source": [
    "## TextCNN Model"
   ]
  },
  {
   "cell_type": "code",
   "execution_count": 58,
   "id": "6c6e40b0",
   "metadata": {},
   "outputs": [
    {
     "name": "stderr",
     "output_type": "stream",
     "text": [
      "[nltk_data] Downloading package punkt to /home/ec2-user/nltk_data...\n",
      "[nltk_data]   Package punkt is already up-to-date!\n"
     ]
    },
    {
     "data": {
      "text/plain": [
       "True"
      ]
     },
     "execution_count": 58,
     "metadata": {},
     "output_type": "execute_result"
    }
   ],
   "source": [
    "import torch\n",
    "import torch.nn as nn\n",
    "import torch.nn.functional as F\n",
    "\n",
    "import torch.optim as optim\n",
    "from torch.utils.data import Dataset, DataLoader\n",
    "\n",
    "import nltk\n",
    "\n",
    "nltk.download('punkt')"
   ]
  },
  {
   "cell_type": "code",
   "execution_count": null,
   "id": "e4fa4310",
   "metadata": {},
   "outputs": [],
   "source": [
    "#this takes about 10 minutes to run\n",
    "!wget -nc https://nlp.stanford.edu/data/glove.840B.300d.zip\n",
    "!unzip glove.840B.300d.zip\n",
    "!ls -lat\n",
    "\n",
    "glove_file = \"glove.840B.300d.txt\"\n",
    "\n",
    "def get_glove_mapping(file):\n",
    "    \"\"\"\n",
    "    Gets the mapping of words from the vocabulary to pretrained embeddings\n",
    "    \n",
    "    INPUT:\n",
    "    vocab       - set of vocabulary words\n",
    "    file        - file with pretrained embeddings\n",
    "\n",
    "    OUTPUT:\n",
    "    glove_map   - mapping of words in the vocabulary to the pretrained embedding\n",
    "    \n",
    "    \"\"\"\n",
    "    glove_map = {}\n",
    "    with open(file,'rb') as fi:\n",
    "        for l in fi:\n",
    "            try:\n",
    "                tokens = l.decode(\"utf-8\").split(\" \")\n",
    "                word = str(tokens[0]).lower()\n",
    "                arr = [float(x) for x in tokens[1:]]\n",
    "                glove_map[word] = np.array(arr)\n",
    "            except:\n",
    "                #some lines have urls, we don't need them.\n",
    "                pass\n",
    "    return glove_map\n",
    "\n",
    "def get_embeddings(vocab, glove_map):\n",
    "    n_embed = len(vocab)\n",
    "    d_embed = 300\n",
    "    weights_matrix = np.zeros((n_embed + 1, d_embed))\n",
    "    for word, i in vocab.items():\n",
    "    if word in glove_map:\n",
    "        weights_matrix[i] = glove_map[word]\n",
    "    return weights_matrix\n",
    "\n",
    "glove_map = get_glove_mapping(glove_file)\n",
    "embeddings = get_embeddings(tokenizer.word_index, glove_map)"
   ]
  },
  {
   "cell_type": "code",
   "execution_count": 59,
   "id": "8334c43d",
   "metadata": {},
   "outputs": [],
   "source": [
    "import bz2\n",
    "import _pickle as cPickle\n",
    "\n",
    "embeddings = cPickle.load(bz2.BZ2File('embedding_weights.pbz2','rb'))"
   ]
  },
  {
   "cell_type": "code",
   "execution_count": 69,
   "id": "4a40dc93",
   "metadata": {},
   "outputs": [],
   "source": [
    "from sklearn import model_selection\n",
    "from keras.preprocessing.text import Tokenizer\n",
    "from keras.preprocessing.sequence import pad_sequences\n",
    "\n",
    "params = {'num_words': 250, \n",
    "          'embedding_size': 300, \n",
    "          'epochs': 8, \n",
    "          'batch_size': 32, \n",
    "          'learning_rate': 0.001}\n",
    "\n",
    "x_train, x_test, y_train, y_test = model_selection.train_test_split(test_tweets_df['tweet'], test_tweets_df['label'], test_size=0.26, shuffle=True)\n",
    "\n",
    "tokenizer = Tokenizer(num_words=params['num_words'])\n",
    "tokenizer.fit_on_texts(list(x_train))\n",
    "x_train = tokenizer.texts_to_sequences(x_train)\n",
    "x_test = tokenizer.texts_to_sequences(x_test)\n",
    "\n",
    "x_train = pad_sequences(x_train, maxlen=params['num_words'])\n",
    "x_test= pad_sequences(x_test, maxlen=params['num_words'])"
   ]
  },
  {
   "cell_type": "code",
   "execution_count": 128,
   "id": "52f70c96",
   "metadata": {},
   "outputs": [
    {
     "name": "stdout",
     "output_type": "stream",
     "text": [
      "Model: \"sequential_38\"\n",
      "_________________________________________________________________\n",
      "Layer (type)                 Output Shape              Param #   \n",
      "=================================================================\n",
      "embedding_37 (Embedding)     (None, 250, 300)          16568400  \n",
      "_________________________________________________________________\n",
      "conv1d_130 (Conv1D)          (None, 250, 256)          307456    \n",
      "_________________________________________________________________\n",
      "max_pooling1d_130 (MaxPoolin (None, 125, 256)          0         \n",
      "_________________________________________________________________\n",
      "conv1d_131 (Conv1D)          (None, 125, 128)          131200    \n",
      "_________________________________________________________________\n",
      "max_pooling1d_131 (MaxPoolin (None, 62, 128)           0         \n",
      "_________________________________________________________________\n",
      "conv1d_132 (Conv1D)          (None, 62, 64)            32832     \n",
      "_________________________________________________________________\n",
      "max_pooling1d_132 (MaxPoolin (None, 31, 64)            0         \n",
      "_________________________________________________________________\n",
      "conv1d_133 (Conv1D)          (None, 31, 32)            8224      \n",
      "_________________________________________________________________\n",
      "max_pooling1d_133 (MaxPoolin (None, 15, 32)            0         \n",
      "_________________________________________________________________\n",
      "flatten_36 (Flatten)         (None, 480)               0         \n",
      "_________________________________________________________________\n",
      "dense_72 (Dense)             (None, 256)               123136    \n",
      "_________________________________________________________________\n",
      "dropout_32 (Dropout)         (None, 256)               0         \n",
      "_________________________________________________________________\n",
      "dense_73 (Dense)             (None, 3)                 771       \n",
      "=================================================================\n",
      "Total params: 17,172,019\n",
      "Trainable params: 17,172,019\n",
      "Non-trainable params: 0\n",
      "_________________________________________________________________\n"
     ]
    }
   ],
   "source": [
    "from keras.models import Sequential\n",
    "from keras.models import Sequential\n",
    "from keras import layers\n",
    "from keras.layers import Dense\n",
    "from keras.layers import Flatten\n",
    "from keras.layers import Conv1D\n",
    "from keras.layers import MaxPooling1D\n",
    "from keras.layers import Embedding\n",
    "from keras.layers import BatchNormalization\n",
    "from keras.layers import Dropout\n",
    "from keras.metrics import Precision, Recall\n",
    "\n",
    "import tensorflow as tf\n",
    "\n",
    "\n",
    "input_dim = x_train.shape[1]\n",
    "\n",
    "model = Sequential()\n",
    "model.add(layers.Embedding(embeddings.shape[0], params['embedding_size'], input_length=params['num_words']))\n",
    "model.add(Conv1D(filters=256, kernel_size=4, padding='same', activation='relu'))\n",
    "model.add(MaxPooling1D(pool_size=2))\n",
    "model.add(Conv1D(filters=128, kernel_size=4, padding='same', activation='relu'))\n",
    "model.add(MaxPooling1D(pool_size=2))\n",
    "model.add(Conv1D(filters=64, kernel_size=4, padding='same', activation='relu', kernel_regularizer='l2'))\n",
    "model.add(MaxPooling1D(pool_size=2))\n",
    "model.add(Conv1D(filters=32, kernel_size=4, padding='same', activation='relu', kernel_regularizer='l2'))\n",
    "model.add(MaxPooling1D(pool_size=2))\n",
    "model.add(Flatten())\n",
    "model.add(Dense(256, activation='relu'))\n",
    "model.add(Dropout(0.75))\n",
    "model.add(Dense(3, activation='sigmoid'))\n",
    "opt = tf.keras.optimizers.SGD(learning_rate=0.0001, decay=1e-6, momentum=0.9, nesterov=True)\n",
    "model.compile(loss=tf.keras.losses.SparseCategoricalCrossentropy(), optimizer='adam', metrics=['accuracy'])\n",
    "model.summary()"
   ]
  },
  {
   "cell_type": "code",
   "execution_count": 129,
   "id": "de65f7ce",
   "metadata": {},
   "outputs": [
    {
     "name": "stdout",
     "output_type": "stream",
     "text": [
      "Epoch 1/4\n",
      "60/60 [==============================] - 14s 225ms/step - loss: 1.7475 - accuracy: 0.3697 - val_loss: 1.3510 - val_accuracy: 0.3940\n",
      "Epoch 2/4\n",
      "60/60 [==============================] - 13s 222ms/step - loss: 1.2201 - accuracy: 0.3897 - val_loss: 1.0763 - val_accuracy: 0.3940\n",
      "Epoch 3/4\n",
      "60/60 [==============================] - 13s 225ms/step - loss: 1.0533 - accuracy: 0.5284 - val_loss: 1.0292 - val_accuracy: 0.5134\n",
      "Epoch 4/4\n",
      "60/60 [==============================] - 13s 224ms/step - loss: 0.9602 - accuracy: 0.5788 - val_loss: 0.9970 - val_accuracy: 0.5433\n"
     ]
    }
   ],
   "source": [
    "from sklearn.utils import compute_class_weight\n",
    "\n",
    "history = model.fit(x_train, y_train, epochs=4,verbose=True,validation_data=(x_test, y_test), batch_size=16)"
   ]
  },
  {
   "cell_type": "code",
   "execution_count": null,
   "id": "2a6e21f1",
   "metadata": {},
   "outputs": [],
   "source": []
  }
 ],
 "metadata": {
  "kernelspec": {
   "display_name": "conda_pytorch_latest_p36",
   "language": "python",
   "name": "conda_pytorch_latest_p36"
  },
  "language_info": {
   "codemirror_mode": {
    "name": "ipython",
    "version": 3
   },
   "file_extension": ".py",
   "mimetype": "text/x-python",
   "name": "python",
   "nbconvert_exporter": "python",
   "pygments_lexer": "ipython3",
   "version": "3.6.13"
  }
 },
 "nbformat": 4,
 "nbformat_minor": 5
}
