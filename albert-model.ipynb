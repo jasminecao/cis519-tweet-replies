{
  "nbformat": 4,
  "nbformat_minor": 0,
  "metadata": {
    "colab": {
      "name": "albert-cis519-final-project.ipynb",
      "provenance": [],
      "collapsed_sections": []
    },
    "kernelspec": {
      "name": "python3",
      "display_name": "Python 3"
    },
    "language_info": {
      "name": "python"
    },
    "accelerator": "GPU",
    "widgets": {
      "application/vnd.jupyter.widget-state+json": {
        "e8f553bd5f7a4a109a31fd80fb2987c9": {
          "model_module": "@jupyter-widgets/controls",
          "model_name": "HBoxModel",
          "model_module_version": "1.5.0",
          "state": {
            "_dom_classes": [],
            "_model_module": "@jupyter-widgets/controls",
            "_model_module_version": "1.5.0",
            "_model_name": "HBoxModel",
            "_view_count": null,
            "_view_module": "@jupyter-widgets/controls",
            "_view_module_version": "1.5.0",
            "_view_name": "HBoxView",
            "box_style": "",
            "children": [
              "IPY_MODEL_ce7ecb8bb7d8489187512cdbd0b438d0",
              "IPY_MODEL_a7f46eaed29241b7adfc81b0d2670734",
              "IPY_MODEL_13cc0732fe8441cc99bde3a7d8e16575"
            ],
            "layout": "IPY_MODEL_f31dcb0491b1452081183e757e47eae8"
          }
        },
        "ce7ecb8bb7d8489187512cdbd0b438d0": {
          "model_module": "@jupyter-widgets/controls",
          "model_name": "HTMLModel",
          "model_module_version": "1.5.0",
          "state": {
            "_dom_classes": [],
            "_model_module": "@jupyter-widgets/controls",
            "_model_module_version": "1.5.0",
            "_model_name": "HTMLModel",
            "_view_count": null,
            "_view_module": "@jupyter-widgets/controls",
            "_view_module_version": "1.5.0",
            "_view_name": "HTMLView",
            "description": "",
            "description_tooltip": null,
            "layout": "IPY_MODEL_f27d84e9e6394f1a821bb83f87c4b49f",
            "placeholder": "​",
            "style": "IPY_MODEL_3dd9a8874cf94c04b46f2dca9238d3d5",
            "value": "Downloading: 100%"
          }
        },
        "a7f46eaed29241b7adfc81b0d2670734": {
          "model_module": "@jupyter-widgets/controls",
          "model_name": "FloatProgressModel",
          "model_module_version": "1.5.0",
          "state": {
            "_dom_classes": [],
            "_model_module": "@jupyter-widgets/controls",
            "_model_module_version": "1.5.0",
            "_model_name": "FloatProgressModel",
            "_view_count": null,
            "_view_module": "@jupyter-widgets/controls",
            "_view_module_version": "1.5.0",
            "_view_name": "ProgressView",
            "bar_style": "success",
            "description": "",
            "description_tooltip": null,
            "layout": "IPY_MODEL_b1dd03a8f9c94c95bd128614ae8cf348",
            "max": 684,
            "min": 0,
            "orientation": "horizontal",
            "style": "IPY_MODEL_ae52172672794b95a1e2bce6319be76b",
            "value": 684
          }
        },
        "13cc0732fe8441cc99bde3a7d8e16575": {
          "model_module": "@jupyter-widgets/controls",
          "model_name": "HTMLModel",
          "model_module_version": "1.5.0",
          "state": {
            "_dom_classes": [],
            "_model_module": "@jupyter-widgets/controls",
            "_model_module_version": "1.5.0",
            "_model_name": "HTMLModel",
            "_view_count": null,
            "_view_module": "@jupyter-widgets/controls",
            "_view_module_version": "1.5.0",
            "_view_name": "HTMLView",
            "description": "",
            "description_tooltip": null,
            "layout": "IPY_MODEL_6f4f337251b14eceb81e84429cbd5af4",
            "placeholder": "​",
            "style": "IPY_MODEL_d597e4ac0cbc4f06a123073772bd292d",
            "value": " 684/684 [00:00&lt;00:00, 6.37kB/s]"
          }
        },
        "f31dcb0491b1452081183e757e47eae8": {
          "model_module": "@jupyter-widgets/base",
          "model_name": "LayoutModel",
          "model_module_version": "1.2.0",
          "state": {
            "_model_module": "@jupyter-widgets/base",
            "_model_module_version": "1.2.0",
            "_model_name": "LayoutModel",
            "_view_count": null,
            "_view_module": "@jupyter-widgets/base",
            "_view_module_version": "1.2.0",
            "_view_name": "LayoutView",
            "align_content": null,
            "align_items": null,
            "align_self": null,
            "border": null,
            "bottom": null,
            "display": null,
            "flex": null,
            "flex_flow": null,
            "grid_area": null,
            "grid_auto_columns": null,
            "grid_auto_flow": null,
            "grid_auto_rows": null,
            "grid_column": null,
            "grid_gap": null,
            "grid_row": null,
            "grid_template_areas": null,
            "grid_template_columns": null,
            "grid_template_rows": null,
            "height": null,
            "justify_content": null,
            "justify_items": null,
            "left": null,
            "margin": null,
            "max_height": null,
            "max_width": null,
            "min_height": null,
            "min_width": null,
            "object_fit": null,
            "object_position": null,
            "order": null,
            "overflow": null,
            "overflow_x": null,
            "overflow_y": null,
            "padding": null,
            "right": null,
            "top": null,
            "visibility": null,
            "width": null
          }
        },
        "f27d84e9e6394f1a821bb83f87c4b49f": {
          "model_module": "@jupyter-widgets/base",
          "model_name": "LayoutModel",
          "model_module_version": "1.2.0",
          "state": {
            "_model_module": "@jupyter-widgets/base",
            "_model_module_version": "1.2.0",
            "_model_name": "LayoutModel",
            "_view_count": null,
            "_view_module": "@jupyter-widgets/base",
            "_view_module_version": "1.2.0",
            "_view_name": "LayoutView",
            "align_content": null,
            "align_items": null,
            "align_self": null,
            "border": null,
            "bottom": null,
            "display": null,
            "flex": null,
            "flex_flow": null,
            "grid_area": null,
            "grid_auto_columns": null,
            "grid_auto_flow": null,
            "grid_auto_rows": null,
            "grid_column": null,
            "grid_gap": null,
            "grid_row": null,
            "grid_template_areas": null,
            "grid_template_columns": null,
            "grid_template_rows": null,
            "height": null,
            "justify_content": null,
            "justify_items": null,
            "left": null,
            "margin": null,
            "max_height": null,
            "max_width": null,
            "min_height": null,
            "min_width": null,
            "object_fit": null,
            "object_position": null,
            "order": null,
            "overflow": null,
            "overflow_x": null,
            "overflow_y": null,
            "padding": null,
            "right": null,
            "top": null,
            "visibility": null,
            "width": null
          }
        },
        "3dd9a8874cf94c04b46f2dca9238d3d5": {
          "model_module": "@jupyter-widgets/controls",
          "model_name": "DescriptionStyleModel",
          "model_module_version": "1.5.0",
          "state": {
            "_model_module": "@jupyter-widgets/controls",
            "_model_module_version": "1.5.0",
            "_model_name": "DescriptionStyleModel",
            "_view_count": null,
            "_view_module": "@jupyter-widgets/base",
            "_view_module_version": "1.2.0",
            "_view_name": "StyleView",
            "description_width": ""
          }
        },
        "b1dd03a8f9c94c95bd128614ae8cf348": {
          "model_module": "@jupyter-widgets/base",
          "model_name": "LayoutModel",
          "model_module_version": "1.2.0",
          "state": {
            "_model_module": "@jupyter-widgets/base",
            "_model_module_version": "1.2.0",
            "_model_name": "LayoutModel",
            "_view_count": null,
            "_view_module": "@jupyter-widgets/base",
            "_view_module_version": "1.2.0",
            "_view_name": "LayoutView",
            "align_content": null,
            "align_items": null,
            "align_self": null,
            "border": null,
            "bottom": null,
            "display": null,
            "flex": null,
            "flex_flow": null,
            "grid_area": null,
            "grid_auto_columns": null,
            "grid_auto_flow": null,
            "grid_auto_rows": null,
            "grid_column": null,
            "grid_gap": null,
            "grid_row": null,
            "grid_template_areas": null,
            "grid_template_columns": null,
            "grid_template_rows": null,
            "height": null,
            "justify_content": null,
            "justify_items": null,
            "left": null,
            "margin": null,
            "max_height": null,
            "max_width": null,
            "min_height": null,
            "min_width": null,
            "object_fit": null,
            "object_position": null,
            "order": null,
            "overflow": null,
            "overflow_x": null,
            "overflow_y": null,
            "padding": null,
            "right": null,
            "top": null,
            "visibility": null,
            "width": null
          }
        },
        "ae52172672794b95a1e2bce6319be76b": {
          "model_module": "@jupyter-widgets/controls",
          "model_name": "ProgressStyleModel",
          "model_module_version": "1.5.0",
          "state": {
            "_model_module": "@jupyter-widgets/controls",
            "_model_module_version": "1.5.0",
            "_model_name": "ProgressStyleModel",
            "_view_count": null,
            "_view_module": "@jupyter-widgets/base",
            "_view_module_version": "1.2.0",
            "_view_name": "StyleView",
            "bar_color": null,
            "description_width": ""
          }
        },
        "6f4f337251b14eceb81e84429cbd5af4": {
          "model_module": "@jupyter-widgets/base",
          "model_name": "LayoutModel",
          "model_module_version": "1.2.0",
          "state": {
            "_model_module": "@jupyter-widgets/base",
            "_model_module_version": "1.2.0",
            "_model_name": "LayoutModel",
            "_view_count": null,
            "_view_module": "@jupyter-widgets/base",
            "_view_module_version": "1.2.0",
            "_view_name": "LayoutView",
            "align_content": null,
            "align_items": null,
            "align_self": null,
            "border": null,
            "bottom": null,
            "display": null,
            "flex": null,
            "flex_flow": null,
            "grid_area": null,
            "grid_auto_columns": null,
            "grid_auto_flow": null,
            "grid_auto_rows": null,
            "grid_column": null,
            "grid_gap": null,
            "grid_row": null,
            "grid_template_areas": null,
            "grid_template_columns": null,
            "grid_template_rows": null,
            "height": null,
            "justify_content": null,
            "justify_items": null,
            "left": null,
            "margin": null,
            "max_height": null,
            "max_width": null,
            "min_height": null,
            "min_width": null,
            "object_fit": null,
            "object_position": null,
            "order": null,
            "overflow": null,
            "overflow_x": null,
            "overflow_y": null,
            "padding": null,
            "right": null,
            "top": null,
            "visibility": null,
            "width": null
          }
        },
        "d597e4ac0cbc4f06a123073772bd292d": {
          "model_module": "@jupyter-widgets/controls",
          "model_name": "DescriptionStyleModel",
          "model_module_version": "1.5.0",
          "state": {
            "_model_module": "@jupyter-widgets/controls",
            "_model_module_version": "1.5.0",
            "_model_name": "DescriptionStyleModel",
            "_view_count": null,
            "_view_module": "@jupyter-widgets/base",
            "_view_module_version": "1.2.0",
            "_view_name": "StyleView",
            "description_width": ""
          }
        },
        "e2561c48b2494c5b999358b588a8ee0e": {
          "model_module": "@jupyter-widgets/controls",
          "model_name": "HBoxModel",
          "model_module_version": "1.5.0",
          "state": {
            "_dom_classes": [],
            "_model_module": "@jupyter-widgets/controls",
            "_model_module_version": "1.5.0",
            "_model_name": "HBoxModel",
            "_view_count": null,
            "_view_module": "@jupyter-widgets/controls",
            "_view_module_version": "1.5.0",
            "_view_name": "HBoxView",
            "box_style": "",
            "children": [
              "IPY_MODEL_acdabafd0db94c9aa3539680796b7954",
              "IPY_MODEL_572bb3dbd2b9451998744e7a49cc9a39",
              "IPY_MODEL_efd10dbf027444c986185312536c3a82"
            ],
            "layout": "IPY_MODEL_54653930af494bd69cbaf8104ae05fe3"
          }
        },
        "acdabafd0db94c9aa3539680796b7954": {
          "model_module": "@jupyter-widgets/controls",
          "model_name": "HTMLModel",
          "model_module_version": "1.5.0",
          "state": {
            "_dom_classes": [],
            "_model_module": "@jupyter-widgets/controls",
            "_model_module_version": "1.5.0",
            "_model_name": "HTMLModel",
            "_view_count": null,
            "_view_module": "@jupyter-widgets/controls",
            "_view_module_version": "1.5.0",
            "_view_name": "HTMLView",
            "description": "",
            "description_tooltip": null,
            "layout": "IPY_MODEL_eb741b63e9074230ac199008d90b4f0d",
            "placeholder": "​",
            "style": "IPY_MODEL_b8856f0b7772410dbf766d819fe9f721",
            "value": "Downloading: 100%"
          }
        },
        "572bb3dbd2b9451998744e7a49cc9a39": {
          "model_module": "@jupyter-widgets/controls",
          "model_name": "FloatProgressModel",
          "model_module_version": "1.5.0",
          "state": {
            "_dom_classes": [],
            "_model_module": "@jupyter-widgets/controls",
            "_model_module_version": "1.5.0",
            "_model_name": "FloatProgressModel",
            "_view_count": null,
            "_view_module": "@jupyter-widgets/controls",
            "_view_module_version": "1.5.0",
            "_view_name": "ProgressView",
            "bar_style": "success",
            "description": "",
            "description_tooltip": null,
            "layout": "IPY_MODEL_2af6422be18f42fcab51bbc0003b4e86",
            "max": 63048440,
            "min": 0,
            "orientation": "horizontal",
            "style": "IPY_MODEL_135b0eed94314c29998bbb09c0794704",
            "value": 63048440
          }
        },
        "efd10dbf027444c986185312536c3a82": {
          "model_module": "@jupyter-widgets/controls",
          "model_name": "HTMLModel",
          "model_module_version": "1.5.0",
          "state": {
            "_dom_classes": [],
            "_model_module": "@jupyter-widgets/controls",
            "_model_module_version": "1.5.0",
            "_model_name": "HTMLModel",
            "_view_count": null,
            "_view_module": "@jupyter-widgets/controls",
            "_view_module_version": "1.5.0",
            "_view_name": "HTMLView",
            "description": "",
            "description_tooltip": null,
            "layout": "IPY_MODEL_4b5f9e08fdd1498db87b461406059039",
            "placeholder": "​",
            "style": "IPY_MODEL_59a06f4f71124ae081170e556083ef17",
            "value": " 60.1M/60.1M [00:04&lt;00:00, 19.0MB/s]"
          }
        },
        "54653930af494bd69cbaf8104ae05fe3": {
          "model_module": "@jupyter-widgets/base",
          "model_name": "LayoutModel",
          "model_module_version": "1.2.0",
          "state": {
            "_model_module": "@jupyter-widgets/base",
            "_model_module_version": "1.2.0",
            "_model_name": "LayoutModel",
            "_view_count": null,
            "_view_module": "@jupyter-widgets/base",
            "_view_module_version": "1.2.0",
            "_view_name": "LayoutView",
            "align_content": null,
            "align_items": null,
            "align_self": null,
            "border": null,
            "bottom": null,
            "display": null,
            "flex": null,
            "flex_flow": null,
            "grid_area": null,
            "grid_auto_columns": null,
            "grid_auto_flow": null,
            "grid_auto_rows": null,
            "grid_column": null,
            "grid_gap": null,
            "grid_row": null,
            "grid_template_areas": null,
            "grid_template_columns": null,
            "grid_template_rows": null,
            "height": null,
            "justify_content": null,
            "justify_items": null,
            "left": null,
            "margin": null,
            "max_height": null,
            "max_width": null,
            "min_height": null,
            "min_width": null,
            "object_fit": null,
            "object_position": null,
            "order": null,
            "overflow": null,
            "overflow_x": null,
            "overflow_y": null,
            "padding": null,
            "right": null,
            "top": null,
            "visibility": null,
            "width": null
          }
        },
        "eb741b63e9074230ac199008d90b4f0d": {
          "model_module": "@jupyter-widgets/base",
          "model_name": "LayoutModel",
          "model_module_version": "1.2.0",
          "state": {
            "_model_module": "@jupyter-widgets/base",
            "_model_module_version": "1.2.0",
            "_model_name": "LayoutModel",
            "_view_count": null,
            "_view_module": "@jupyter-widgets/base",
            "_view_module_version": "1.2.0",
            "_view_name": "LayoutView",
            "align_content": null,
            "align_items": null,
            "align_self": null,
            "border": null,
            "bottom": null,
            "display": null,
            "flex": null,
            "flex_flow": null,
            "grid_area": null,
            "grid_auto_columns": null,
            "grid_auto_flow": null,
            "grid_auto_rows": null,
            "grid_column": null,
            "grid_gap": null,
            "grid_row": null,
            "grid_template_areas": null,
            "grid_template_columns": null,
            "grid_template_rows": null,
            "height": null,
            "justify_content": null,
            "justify_items": null,
            "left": null,
            "margin": null,
            "max_height": null,
            "max_width": null,
            "min_height": null,
            "min_width": null,
            "object_fit": null,
            "object_position": null,
            "order": null,
            "overflow": null,
            "overflow_x": null,
            "overflow_y": null,
            "padding": null,
            "right": null,
            "top": null,
            "visibility": null,
            "width": null
          }
        },
        "b8856f0b7772410dbf766d819fe9f721": {
          "model_module": "@jupyter-widgets/controls",
          "model_name": "DescriptionStyleModel",
          "model_module_version": "1.5.0",
          "state": {
            "_model_module": "@jupyter-widgets/controls",
            "_model_module_version": "1.5.0",
            "_model_name": "DescriptionStyleModel",
            "_view_count": null,
            "_view_module": "@jupyter-widgets/base",
            "_view_module_version": "1.2.0",
            "_view_name": "StyleView",
            "description_width": ""
          }
        },
        "2af6422be18f42fcab51bbc0003b4e86": {
          "model_module": "@jupyter-widgets/base",
          "model_name": "LayoutModel",
          "model_module_version": "1.2.0",
          "state": {
            "_model_module": "@jupyter-widgets/base",
            "_model_module_version": "1.2.0",
            "_model_name": "LayoutModel",
            "_view_count": null,
            "_view_module": "@jupyter-widgets/base",
            "_view_module_version": "1.2.0",
            "_view_name": "LayoutView",
            "align_content": null,
            "align_items": null,
            "align_self": null,
            "border": null,
            "bottom": null,
            "display": null,
            "flex": null,
            "flex_flow": null,
            "grid_area": null,
            "grid_auto_columns": null,
            "grid_auto_flow": null,
            "grid_auto_rows": null,
            "grid_column": null,
            "grid_gap": null,
            "grid_row": null,
            "grid_template_areas": null,
            "grid_template_columns": null,
            "grid_template_rows": null,
            "height": null,
            "justify_content": null,
            "justify_items": null,
            "left": null,
            "margin": null,
            "max_height": null,
            "max_width": null,
            "min_height": null,
            "min_width": null,
            "object_fit": null,
            "object_position": null,
            "order": null,
            "overflow": null,
            "overflow_x": null,
            "overflow_y": null,
            "padding": null,
            "right": null,
            "top": null,
            "visibility": null,
            "width": null
          }
        },
        "135b0eed94314c29998bbb09c0794704": {
          "model_module": "@jupyter-widgets/controls",
          "model_name": "ProgressStyleModel",
          "model_module_version": "1.5.0",
          "state": {
            "_model_module": "@jupyter-widgets/controls",
            "_model_module_version": "1.5.0",
            "_model_name": "ProgressStyleModel",
            "_view_count": null,
            "_view_module": "@jupyter-widgets/base",
            "_view_module_version": "1.2.0",
            "_view_name": "StyleView",
            "bar_color": null,
            "description_width": ""
          }
        },
        "4b5f9e08fdd1498db87b461406059039": {
          "model_module": "@jupyter-widgets/base",
          "model_name": "LayoutModel",
          "model_module_version": "1.2.0",
          "state": {
            "_model_module": "@jupyter-widgets/base",
            "_model_module_version": "1.2.0",
            "_model_name": "LayoutModel",
            "_view_count": null,
            "_view_module": "@jupyter-widgets/base",
            "_view_module_version": "1.2.0",
            "_view_name": "LayoutView",
            "align_content": null,
            "align_items": null,
            "align_self": null,
            "border": null,
            "bottom": null,
            "display": null,
            "flex": null,
            "flex_flow": null,
            "grid_area": null,
            "grid_auto_columns": null,
            "grid_auto_flow": null,
            "grid_auto_rows": null,
            "grid_column": null,
            "grid_gap": null,
            "grid_row": null,
            "grid_template_areas": null,
            "grid_template_columns": null,
            "grid_template_rows": null,
            "height": null,
            "justify_content": null,
            "justify_items": null,
            "left": null,
            "margin": null,
            "max_height": null,
            "max_width": null,
            "min_height": null,
            "min_width": null,
            "object_fit": null,
            "object_position": null,
            "order": null,
            "overflow": null,
            "overflow_x": null,
            "overflow_y": null,
            "padding": null,
            "right": null,
            "top": null,
            "visibility": null,
            "width": null
          }
        },
        "59a06f4f71124ae081170e556083ef17": {
          "model_module": "@jupyter-widgets/controls",
          "model_name": "DescriptionStyleModel",
          "model_module_version": "1.5.0",
          "state": {
            "_model_module": "@jupyter-widgets/controls",
            "_model_module_version": "1.5.0",
            "_model_name": "DescriptionStyleModel",
            "_view_count": null,
            "_view_module": "@jupyter-widgets/base",
            "_view_module_version": "1.2.0",
            "_view_name": "StyleView",
            "description_width": ""
          }
        },
        "8bb4cbbbf66a44e5a4e0cc08715ffc97": {
          "model_module": "@jupyter-widgets/controls",
          "model_name": "HBoxModel",
          "model_module_version": "1.5.0",
          "state": {
            "_dom_classes": [],
            "_model_module": "@jupyter-widgets/controls",
            "_model_module_version": "1.5.0",
            "_model_name": "HBoxModel",
            "_view_count": null,
            "_view_module": "@jupyter-widgets/controls",
            "_view_module_version": "1.5.0",
            "_view_name": "HBoxView",
            "box_style": "",
            "children": [
              "IPY_MODEL_f8b94624af384c7699ae262b581ab7eb",
              "IPY_MODEL_7e58c5076f334d399d12ae097ac106bd",
              "IPY_MODEL_e87f35465ca649e8873023ebc78bd8c5"
            ],
            "layout": "IPY_MODEL_5c68e514244b4910a6bd2c0f86ebf865"
          }
        },
        "f8b94624af384c7699ae262b581ab7eb": {
          "model_module": "@jupyter-widgets/controls",
          "model_name": "HTMLModel",
          "model_module_version": "1.5.0",
          "state": {
            "_dom_classes": [],
            "_model_module": "@jupyter-widgets/controls",
            "_model_module_version": "1.5.0",
            "_model_name": "HTMLModel",
            "_view_count": null,
            "_view_module": "@jupyter-widgets/controls",
            "_view_module_version": "1.5.0",
            "_view_name": "HTMLView",
            "description": "",
            "description_tooltip": null,
            "layout": "IPY_MODEL_07aeb248cc2243b5a3452acdceb78441",
            "placeholder": "​",
            "style": "IPY_MODEL_1cc2cc3d6fe944d9b6559302550138b0",
            "value": "Downloading: 100%"
          }
        },
        "7e58c5076f334d399d12ae097ac106bd": {
          "model_module": "@jupyter-widgets/controls",
          "model_name": "FloatProgressModel",
          "model_module_version": "1.5.0",
          "state": {
            "_dom_classes": [],
            "_model_module": "@jupyter-widgets/controls",
            "_model_module_version": "1.5.0",
            "_model_name": "FloatProgressModel",
            "_view_count": null,
            "_view_module": "@jupyter-widgets/controls",
            "_view_module_version": "1.5.0",
            "_view_name": "ProgressView",
            "bar_style": "success",
            "description": "",
            "description_tooltip": null,
            "layout": "IPY_MODEL_7bcd3a0fd9e349abbf50a8b2a65c3a7d",
            "max": 760289,
            "min": 0,
            "orientation": "horizontal",
            "style": "IPY_MODEL_709e42825a0645ad98033adc18811471",
            "value": 760289
          }
        },
        "e87f35465ca649e8873023ebc78bd8c5": {
          "model_module": "@jupyter-widgets/controls",
          "model_name": "HTMLModel",
          "model_module_version": "1.5.0",
          "state": {
            "_dom_classes": [],
            "_model_module": "@jupyter-widgets/controls",
            "_model_module_version": "1.5.0",
            "_model_name": "HTMLModel",
            "_view_count": null,
            "_view_module": "@jupyter-widgets/controls",
            "_view_module_version": "1.5.0",
            "_view_name": "HTMLView",
            "description": "",
            "description_tooltip": null,
            "layout": "IPY_MODEL_be824de555994f87ac691e2b6b7342e2",
            "placeholder": "​",
            "style": "IPY_MODEL_bfcb1a1d4b9f4b50980a0116d0b0efb9",
            "value": " 742k/742k [00:00&lt;00:00, 1.74MB/s]"
          }
        },
        "5c68e514244b4910a6bd2c0f86ebf865": {
          "model_module": "@jupyter-widgets/base",
          "model_name": "LayoutModel",
          "model_module_version": "1.2.0",
          "state": {
            "_model_module": "@jupyter-widgets/base",
            "_model_module_version": "1.2.0",
            "_model_name": "LayoutModel",
            "_view_count": null,
            "_view_module": "@jupyter-widgets/base",
            "_view_module_version": "1.2.0",
            "_view_name": "LayoutView",
            "align_content": null,
            "align_items": null,
            "align_self": null,
            "border": null,
            "bottom": null,
            "display": null,
            "flex": null,
            "flex_flow": null,
            "grid_area": null,
            "grid_auto_columns": null,
            "grid_auto_flow": null,
            "grid_auto_rows": null,
            "grid_column": null,
            "grid_gap": null,
            "grid_row": null,
            "grid_template_areas": null,
            "grid_template_columns": null,
            "grid_template_rows": null,
            "height": null,
            "justify_content": null,
            "justify_items": null,
            "left": null,
            "margin": null,
            "max_height": null,
            "max_width": null,
            "min_height": null,
            "min_width": null,
            "object_fit": null,
            "object_position": null,
            "order": null,
            "overflow": null,
            "overflow_x": null,
            "overflow_y": null,
            "padding": null,
            "right": null,
            "top": null,
            "visibility": null,
            "width": null
          }
        },
        "07aeb248cc2243b5a3452acdceb78441": {
          "model_module": "@jupyter-widgets/base",
          "model_name": "LayoutModel",
          "model_module_version": "1.2.0",
          "state": {
            "_model_module": "@jupyter-widgets/base",
            "_model_module_version": "1.2.0",
            "_model_name": "LayoutModel",
            "_view_count": null,
            "_view_module": "@jupyter-widgets/base",
            "_view_module_version": "1.2.0",
            "_view_name": "LayoutView",
            "align_content": null,
            "align_items": null,
            "align_self": null,
            "border": null,
            "bottom": null,
            "display": null,
            "flex": null,
            "flex_flow": null,
            "grid_area": null,
            "grid_auto_columns": null,
            "grid_auto_flow": null,
            "grid_auto_rows": null,
            "grid_column": null,
            "grid_gap": null,
            "grid_row": null,
            "grid_template_areas": null,
            "grid_template_columns": null,
            "grid_template_rows": null,
            "height": null,
            "justify_content": null,
            "justify_items": null,
            "left": null,
            "margin": null,
            "max_height": null,
            "max_width": null,
            "min_height": null,
            "min_width": null,
            "object_fit": null,
            "object_position": null,
            "order": null,
            "overflow": null,
            "overflow_x": null,
            "overflow_y": null,
            "padding": null,
            "right": null,
            "top": null,
            "visibility": null,
            "width": null
          }
        },
        "1cc2cc3d6fe944d9b6559302550138b0": {
          "model_module": "@jupyter-widgets/controls",
          "model_name": "DescriptionStyleModel",
          "model_module_version": "1.5.0",
          "state": {
            "_model_module": "@jupyter-widgets/controls",
            "_model_module_version": "1.5.0",
            "_model_name": "DescriptionStyleModel",
            "_view_count": null,
            "_view_module": "@jupyter-widgets/base",
            "_view_module_version": "1.2.0",
            "_view_name": "StyleView",
            "description_width": ""
          }
        },
        "7bcd3a0fd9e349abbf50a8b2a65c3a7d": {
          "model_module": "@jupyter-widgets/base",
          "model_name": "LayoutModel",
          "model_module_version": "1.2.0",
          "state": {
            "_model_module": "@jupyter-widgets/base",
            "_model_module_version": "1.2.0",
            "_model_name": "LayoutModel",
            "_view_count": null,
            "_view_module": "@jupyter-widgets/base",
            "_view_module_version": "1.2.0",
            "_view_name": "LayoutView",
            "align_content": null,
            "align_items": null,
            "align_self": null,
            "border": null,
            "bottom": null,
            "display": null,
            "flex": null,
            "flex_flow": null,
            "grid_area": null,
            "grid_auto_columns": null,
            "grid_auto_flow": null,
            "grid_auto_rows": null,
            "grid_column": null,
            "grid_gap": null,
            "grid_row": null,
            "grid_template_areas": null,
            "grid_template_columns": null,
            "grid_template_rows": null,
            "height": null,
            "justify_content": null,
            "justify_items": null,
            "left": null,
            "margin": null,
            "max_height": null,
            "max_width": null,
            "min_height": null,
            "min_width": null,
            "object_fit": null,
            "object_position": null,
            "order": null,
            "overflow": null,
            "overflow_x": null,
            "overflow_y": null,
            "padding": null,
            "right": null,
            "top": null,
            "visibility": null,
            "width": null
          }
        },
        "709e42825a0645ad98033adc18811471": {
          "model_module": "@jupyter-widgets/controls",
          "model_name": "ProgressStyleModel",
          "model_module_version": "1.5.0",
          "state": {
            "_model_module": "@jupyter-widgets/controls",
            "_model_module_version": "1.5.0",
            "_model_name": "ProgressStyleModel",
            "_view_count": null,
            "_view_module": "@jupyter-widgets/base",
            "_view_module_version": "1.2.0",
            "_view_name": "StyleView",
            "bar_color": null,
            "description_width": ""
          }
        },
        "be824de555994f87ac691e2b6b7342e2": {
          "model_module": "@jupyter-widgets/base",
          "model_name": "LayoutModel",
          "model_module_version": "1.2.0",
          "state": {
            "_model_module": "@jupyter-widgets/base",
            "_model_module_version": "1.2.0",
            "_model_name": "LayoutModel",
            "_view_count": null,
            "_view_module": "@jupyter-widgets/base",
            "_view_module_version": "1.2.0",
            "_view_name": "LayoutView",
            "align_content": null,
            "align_items": null,
            "align_self": null,
            "border": null,
            "bottom": null,
            "display": null,
            "flex": null,
            "flex_flow": null,
            "grid_area": null,
            "grid_auto_columns": null,
            "grid_auto_flow": null,
            "grid_auto_rows": null,
            "grid_column": null,
            "grid_gap": null,
            "grid_row": null,
            "grid_template_areas": null,
            "grid_template_columns": null,
            "grid_template_rows": null,
            "height": null,
            "justify_content": null,
            "justify_items": null,
            "left": null,
            "margin": null,
            "max_height": null,
            "max_width": null,
            "min_height": null,
            "min_width": null,
            "object_fit": null,
            "object_position": null,
            "order": null,
            "overflow": null,
            "overflow_x": null,
            "overflow_y": null,
            "padding": null,
            "right": null,
            "top": null,
            "visibility": null,
            "width": null
          }
        },
        "bfcb1a1d4b9f4b50980a0116d0b0efb9": {
          "model_module": "@jupyter-widgets/controls",
          "model_name": "DescriptionStyleModel",
          "model_module_version": "1.5.0",
          "state": {
            "_model_module": "@jupyter-widgets/controls",
            "_model_module_version": "1.5.0",
            "_model_name": "DescriptionStyleModel",
            "_view_count": null,
            "_view_module": "@jupyter-widgets/base",
            "_view_module_version": "1.2.0",
            "_view_name": "StyleView",
            "description_width": ""
          }
        }
      }
    }
  },
  "cells": [
    {
      "cell_type": "code",
      "execution_count": null,
      "metadata": {
        "id": "3eqKeP9lcoRW",
        "colab": {
          "base_uri": "https://localhost:8080/"
        },
        "outputId": "53ad22ee-c9b1-4147-c363-5101cb93ad69"
      },
      "outputs": [
        {
          "output_type": "stream",
          "name": "stdout",
          "text": [
            "[nltk_data] Downloading package stopwords to /root/nltk_data...\n",
            "[nltk_data]   Unzipping corpora/stopwords.zip.\n"
          ]
        }
      ],
      "source": [
        "import re\n",
        "import pandas as pd\n",
        "import nltk\n",
        "import string\n",
        "from plotly import graph_objects as go\n",
        "# import plotly.express as px\n",
        "import numpy as np\n",
        "\n",
        "nltk.download(\"stopwords\")\n",
        "stopword_list = nltk.corpus.stopwords.words(\"english\")\n",
        "\n",
        "\n",
        "def read_file(filename):\n",
        "    \"\"\"\n",
        "    Converts given text file into dataframe with cols of label and\n",
        "    (positive, negative, neutral)\n",
        "    \"\"\"\n",
        "    tweet_df = pd.read_csv(filename, sep=\"\\t\", lineterminator=\"\\n\")\n",
        "    tweet_df.columns = [\"label\", \"tweet\"]\n",
        "    return tweet_df\n",
        "\n",
        "\n",
        "# TODO: replace contractions? emojis?\n",
        "def clean_tweet(tweet):\n",
        "    \"\"\"\n",
        "    tweet: string\n",
        "    returns: cleaned tweet (string)\n",
        "    \"\"\"\n",
        "    tweet = tweet.lower()\n",
        "    # remove punctuation\n",
        "    tweet = \"\".join([c for c in tweet if c not in string.punctuation])\n",
        "    # remove stop words\n",
        "    tweet = \"\".join([(c + \" \") for c in tweet.split(\" \") if c not in stopword_list])\n",
        "    # remove all @mentions\n",
        "    tweet = re.sub(r\"(@.*?)[\\s]\", \" \", tweet)\n",
        "    # remove twitter URL at end of tweet (https://t.co/...)\n",
        "    tweet = re.sub(\"http[s]?://\\S+\", \"\", tweet)\n",
        "    return tweet\n",
        "\n",
        "\n",
        "def visualize_tweets(tweet_df):\n",
        "    \"\"\"\n",
        "    tweet_df: dataframe\n",
        "    \"\"\"\n",
        "    index = [\"negative\", \"neutral\", \"positive\"]\n",
        "\n",
        "    tweet_u, tweet_counts = np.unique(tweet_df[\"label\"], return_counts=True)\n",
        "    text = [round(x / len(tweet_df), 3) for x in tweet_counts]\n",
        "    fig = go.Figure(\n",
        "        data=[\n",
        "            go.Bar(\n",
        "                name=\"Tweets\",\n",
        "                x=index,\n",
        "                y=tweet_counts / len(tweet_df),\n",
        "                text=text,\n",
        "            ),\n",
        "        ],\n",
        "        layout=go.Layout(\n",
        "            title=\"Proportion of Tweets by Sentiment\",\n",
        "            yaxis_title=\"Proportion of Total Tweets\",\n",
        "        ),\n",
        "    )\n",
        "    fig.show()\n",
        "\n",
        "\n",
        "def preprocess_tweets(filename):\n",
        "    tweet_df = read_file(filename)\n",
        "    tweet_df[\"tweet\"] = tweet_df[\"tweet\"].apply(clean_tweet)\n",
        "    return tweet_df"
      ]
    },
    {
      "cell_type": "code",
      "source": [
        "import nltk\n",
        "from textblob import TextBlob\n",
        "from sklearn.ensemble import RandomForestClassifier\n",
        "from sklearn.model_selection import train_test_split\n",
        "from nltk.sentiment.vader import SentimentIntensityAnalyzer\n",
        "\n",
        "nltk.download(\"vader_lexicon\")\n",
        "\n",
        "label_dict = {\"negative\": 0, \"neutral\": 1, \"positive\": 2}\n",
        "\n",
        "def extract_features(filename):\n",
        "    tweets_df = preprocess_tweets(filename)\n",
        "\n",
        "    sid = SentimentIntensityAnalyzer()\n",
        "    tweets_df[\"sentiment\"] = tweets_df[\"tweet\"].apply(\n",
        "        lambda x: sid.polarity_scores(x).get(\"compound\")\n",
        "    )\n",
        "    tweets_df[\"subjectivity\"] = tweets_df[\"tweet\"].apply(\n",
        "        lambda x: TextBlob(x).sentiment.subjectivity\n",
        "    )\n",
        "    tweets_df[\"num_tokens\"] = tweets_df[\"tweet\"].apply(lambda x: len(x.split(\" \")))\n",
        "    tweets_df[\"label\"] = tweets_df[\"label\"].apply(lambda x : label_dict[x])\n",
        "\n",
        "    return tweets_df"
      ],
      "metadata": {
        "colab": {
          "base_uri": "https://localhost:8080/"
        },
        "id": "7MjVO54Uc12u",
        "outputId": "1e79e66f-0194-49ca-e050-00d88ae3c2cb"
      },
      "execution_count": null,
      "outputs": [
        {
          "output_type": "stream",
          "name": "stderr",
          "text": [
            "/usr/local/lib/python3.7/dist-packages/nltk/twitter/__init__.py:20: UserWarning: The twython library has not been installed. Some functionality from the twitter package will not be available.\n",
            "  warnings.warn(\"The twython library has not been installed. \"\n"
          ]
        },
        {
          "output_type": "stream",
          "name": "stdout",
          "text": [
            "[nltk_data] Downloading package vader_lexicon to /root/nltk_data...\n"
          ]
        }
      ]
    },
    {
      "cell_type": "code",
      "source": [
        "from sklearn.metrics import confusion_matrix\n",
        "from sklearn.metrics import ConfusionMatrixDisplay\n",
        "\n",
        "# def get_sentiment_label(x):\n",
        "#   if (x < -0.05):\n",
        "#     return -1\n",
        "#   if (x > 0.05):\n",
        "#     return 1\n",
        "#   else:\n",
        "#     return 0\n",
        "\n",
        "def get_sentiment_label(x):\n",
        "  if (x < 0):\n",
        "    return 0\n",
        "  if (x >= 0):\n",
        "    return 1\n",
        "\n",
        "def baseline_predictor():\n",
        "    tweets_df = extract_features(\"final_tweets_test.txt\")\n",
        "    tweets_df=tweets_df[tweets_df.label != 2]\n",
        "    tweets_df[\"prediction\"] = tweets_df[\"sentiment\"].apply(get_sentiment_label)\n",
        "    correct_prediction = tweets_df[tweets_df[\"prediction\"] == tweets_df[\"label\"]]\n",
        "    accuracy = len(correct_prediction) / len(tweets_df)\n",
        "\n",
        "\n",
        "    ConfusionMatrixDisplay.from_predictions(tweets_df[\"label\"], tweets_df[\"prediction\"])\n",
        "\n",
        "    return accuracy\n",
        "\n",
        "baseline_predictor()"
      ],
      "metadata": {
        "colab": {
          "base_uri": "https://localhost:8080/",
          "height": 296
        },
        "id": "n9e-CwRldr7M",
        "outputId": "0448fcff-48ee-41c4-9d25-ab76d8efbc06"
      },
      "execution_count": null,
      "outputs": [
        {
          "output_type": "execute_result",
          "data": {
            "text/plain": [
              "0.5631399317406144"
            ]
          },
          "metadata": {},
          "execution_count": 3
        },
        {
          "output_type": "display_data",
          "data": {
            "text/plain": [
              "<Figure size 432x288 with 2 Axes>"
            ],
            "image/png": "[encoded data removed]"
          },
          "metadata": {
            "needs_background": "light"
          }
        }
      ]
    },
    {
      "cell_type": "code",
      "source": [
        "!pip install -q transformers"
      ],
      "metadata": {
        "id": "Qo9PT8IRdqvc",
        "colab": {
          "base_uri": "https://localhost:8080/"
        },
        "outputId": "f4f6d9d4-580b-4791-d773-64244b3996a3"
      },
      "execution_count": null,
      "outputs": [
        {
          "output_type": "stream",
          "name": "stdout",
          "text": [
            "\u001b[K     |████████████████████████████████| 4.0 MB 10.8 MB/s \n",
            "\u001b[K     |████████████████████████████████| 6.6 MB 37.8 MB/s \n",
            "\u001b[K     |████████████████████████████████| 77 kB 6.0 MB/s \n",
            "\u001b[K     |████████████████████████████████| 596 kB 36.8 MB/s \n",
            "\u001b[K     |████████████████████████████████| 895 kB 19.8 MB/s \n",
            "\u001b[?25h"
          ]
        }
      ]
    },
    {
      "cell_type": "code",
      "source": [
        "pip install sentencepiece"
      ],
      "metadata": {
        "colab": {
          "base_uri": "https://localhost:8080/"
        },
        "id": "MMMpsi860oAD",
        "outputId": "3eded333-a092-4024-aaac-583ebe8009f8"
      },
      "execution_count": null,
      "outputs": [
        {
          "output_type": "stream",
          "name": "stdout",
          "text": [
            "Collecting sentencepiece\n",
            "  Downloading sentencepiece-0.1.96-cp37-cp37m-manylinux_2_17_x86_64.manylinux2014_x86_64.whl (1.2 MB)\n",
            "\u001b[?25l\r\u001b[K     |▎                               | 10 kB 18.4 MB/s eta 0:00:01\r\u001b[K     |▌                               | 20 kB 24.8 MB/s eta 0:00:01\r\u001b[K     |▉                               | 30 kB 26.1 MB/s eta 0:00:01\r\u001b[K     |█                               | 40 kB 12.7 MB/s eta 0:00:01\r\u001b[K     |█▍                              | 51 kB 11.8 MB/s eta 0:00:01\r\u001b[K     |█▋                              | 61 kB 13.5 MB/s eta 0:00:01\r\u001b[K     |██                              | 71 kB 11.6 MB/s eta 0:00:01\r\u001b[K     |██▏                             | 81 kB 12.7 MB/s eta 0:00:01\r\u001b[K     |██▍                             | 92 kB 13.9 MB/s eta 0:00:01\r\u001b[K     |██▊                             | 102 kB 12.9 MB/s eta 0:00:01\r\u001b[K     |███                             | 112 kB 12.9 MB/s eta 0:00:01\r\u001b[K     |███▎                            | 122 kB 12.9 MB/s eta 0:00:01\r\u001b[K     |███▌                            | 133 kB 12.9 MB/s eta 0:00:01\r\u001b[K     |███▉                            | 143 kB 12.9 MB/s eta 0:00:01\r\u001b[K     |████                            | 153 kB 12.9 MB/s eta 0:00:01\r\u001b[K     |████▎                           | 163 kB 12.9 MB/s eta 0:00:01\r\u001b[K     |████▋                           | 174 kB 12.9 MB/s eta 0:00:01\r\u001b[K     |████▉                           | 184 kB 12.9 MB/s eta 0:00:01\r\u001b[K     |█████▏                          | 194 kB 12.9 MB/s eta 0:00:01\r\u001b[K     |█████▍                          | 204 kB 12.9 MB/s eta 0:00:01\r\u001b[K     |█████▊                          | 215 kB 12.9 MB/s eta 0:00:01\r\u001b[K     |██████                          | 225 kB 12.9 MB/s eta 0:00:01\r\u001b[K     |██████▏                         | 235 kB 12.9 MB/s eta 0:00:01\r\u001b[K     |██████▌                         | 245 kB 12.9 MB/s eta 0:00:01\r\u001b[K     |██████▊                         | 256 kB 12.9 MB/s eta 0:00:01\r\u001b[K     |███████                         | 266 kB 12.9 MB/s eta 0:00:01\r\u001b[K     |███████▎                        | 276 kB 12.9 MB/s eta 0:00:01\r\u001b[K     |███████▋                        | 286 kB 12.9 MB/s eta 0:00:01\r\u001b[K     |███████▉                        | 296 kB 12.9 MB/s eta 0:00:01\r\u001b[K     |████████                        | 307 kB 12.9 MB/s eta 0:00:01\r\u001b[K     |████████▍                       | 317 kB 12.9 MB/s eta 0:00:01\r\u001b[K     |████████▋                       | 327 kB 12.9 MB/s eta 0:00:01\r\u001b[K     |█████████                       | 337 kB 12.9 MB/s eta 0:00:01\r\u001b[K     |█████████▏                      | 348 kB 12.9 MB/s eta 0:00:01\r\u001b[K     |█████████▌                      | 358 kB 12.9 MB/s eta 0:00:01\r\u001b[K     |█████████▊                      | 368 kB 12.9 MB/s eta 0:00:01\r\u001b[K     |██████████                      | 378 kB 12.9 MB/s eta 0:00:01\r\u001b[K     |██████████▎                     | 389 kB 12.9 MB/s eta 0:00:01\r\u001b[K     |██████████▌                     | 399 kB 12.9 MB/s eta 0:00:01\r\u001b[K     |██████████▉                     | 409 kB 12.9 MB/s eta 0:00:01\r\u001b[K     |███████████                     | 419 kB 12.9 MB/s eta 0:00:01\r\u001b[K     |███████████▍                    | 430 kB 12.9 MB/s eta 0:00:01\r\u001b[K     |███████████▋                    | 440 kB 12.9 MB/s eta 0:00:01\r\u001b[K     |███████████▉                    | 450 kB 12.9 MB/s eta 0:00:01\r\u001b[K     |████████████▏                   | 460 kB 12.9 MB/s eta 0:00:01\r\u001b[K     |████████████▍                   | 471 kB 12.9 MB/s eta 0:00:01\r\u001b[K     |████████████▊                   | 481 kB 12.9 MB/s eta 0:00:01\r\u001b[K     |█████████████                   | 491 kB 12.9 MB/s eta 0:00:01\r\u001b[K     |█████████████▎                  | 501 kB 12.9 MB/s eta 0:00:01\r\u001b[K     |█████████████▌                  | 512 kB 12.9 MB/s eta 0:00:01\r\u001b[K     |█████████████▊                  | 522 kB 12.9 MB/s eta 0:00:01\r\u001b[K     |██████████████                  | 532 kB 12.9 MB/s eta 0:00:01\r\u001b[K     |██████████████▎                 | 542 kB 12.9 MB/s eta 0:00:01\r\u001b[K     |██████████████▋                 | 552 kB 12.9 MB/s eta 0:00:01\r\u001b[K     |██████████████▉                 | 563 kB 12.9 MB/s eta 0:00:01\r\u001b[K     |███████████████▏                | 573 kB 12.9 MB/s eta 0:00:01\r\u001b[K     |███████████████▍                | 583 kB 12.9 MB/s eta 0:00:01\r\u001b[K     |███████████████▋                | 593 kB 12.9 MB/s eta 0:00:01\r\u001b[K     |████████████████                | 604 kB 12.9 MB/s eta 0:00:01\r\u001b[K     |████████████████▏               | 614 kB 12.9 MB/s eta 0:00:01\r\u001b[K     |████████████████▌               | 624 kB 12.9 MB/s eta 0:00:01\r\u001b[K     |████████████████▊               | 634 kB 12.9 MB/s eta 0:00:01\r\u001b[K     |█████████████████               | 645 kB 12.9 MB/s eta 0:00:01\r\u001b[K     |█████████████████▎              | 655 kB 12.9 MB/s eta 0:00:01\r\u001b[K     |█████████████████▌              | 665 kB 12.9 MB/s eta 0:00:01\r\u001b[K     |█████████████████▉              | 675 kB 12.9 MB/s eta 0:00:01\r\u001b[K     |██████████████████              | 686 kB 12.9 MB/s eta 0:00:01\r\u001b[K     |██████████████████▍             | 696 kB 12.9 MB/s eta 0:00:01\r\u001b[K     |██████████████████▋             | 706 kB 12.9 MB/s eta 0:00:01\r\u001b[K     |███████████████████             | 716 kB 12.9 MB/s eta 0:00:01\r\u001b[K     |███████████████████▏            | 727 kB 12.9 MB/s eta 0:00:01\r\u001b[K     |███████████████████▍            | 737 kB 12.9 MB/s eta 0:00:01\r\u001b[K     |███████████████████▊            | 747 kB 12.9 MB/s eta 0:00:01\r\u001b[K     |████████████████████            | 757 kB 12.9 MB/s eta 0:00:01\r\u001b[K     |████████████████████▎           | 768 kB 12.9 MB/s eta 0:00:01\r\u001b[K     |████████████████████▌           | 778 kB 12.9 MB/s eta 0:00:01\r\u001b[K     |████████████████████▉           | 788 kB 12.9 MB/s eta 0:00:01\r\u001b[K     |█████████████████████           | 798 kB 12.9 MB/s eta 0:00:01\r\u001b[K     |█████████████████████▎          | 808 kB 12.9 MB/s eta 0:00:01\r\u001b[K     |█████████████████████▋          | 819 kB 12.9 MB/s eta 0:00:01\r\u001b[K     |█████████████████████▉          | 829 kB 12.9 MB/s eta 0:00:01\r\u001b[K     |██████████████████████▏         | 839 kB 12.9 MB/s eta 0:00:01\r\u001b[K     |██████████████████████▍         | 849 kB 12.9 MB/s eta 0:00:01\r\u001b[K     |██████████████████████▊         | 860 kB 12.9 MB/s eta 0:00:01\r\u001b[K     |███████████████████████         | 870 kB 12.9 MB/s eta 0:00:01\r\u001b[K     |███████████████████████▏        | 880 kB 12.9 MB/s eta 0:00:01\r\u001b[K     |███████████████████████▌        | 890 kB 12.9 MB/s eta 0:00:01\r\u001b[K     |███████████████████████▊        | 901 kB 12.9 MB/s eta 0:00:01\r\u001b[K     |████████████████████████        | 911 kB 12.9 MB/s eta 0:00:01\r\u001b[K     |████████████████████████▎       | 921 kB 12.9 MB/s eta 0:00:01\r\u001b[K     |████████████████████████▋       | 931 kB 12.9 MB/s eta 0:00:01\r\u001b[K     |████████████████████████▉       | 942 kB 12.9 MB/s eta 0:00:01\r\u001b[K     |█████████████████████████       | 952 kB 12.9 MB/s eta 0:00:01\r\u001b[K     |█████████████████████████▍      | 962 kB 12.9 MB/s eta 0:00:01\r\u001b[K     |█████████████████████████▋      | 972 kB 12.9 MB/s eta 0:00:01\r\u001b[K     |██████████████████████████      | 983 kB 12.9 MB/s eta 0:00:01\r\u001b[K     |██████████████████████████▏     | 993 kB 12.9 MB/s eta 0:00:01\r\u001b[K     |██████████████████████████▌     | 1.0 MB 12.9 MB/s eta 0:00:01\r\u001b[K     |██████████████████████████▊     | 1.0 MB 12.9 MB/s eta 0:00:01\r\u001b[K     |███████████████████████████     | 1.0 MB 12.9 MB/s eta 0:00:01\r\u001b[K     |███████████████████████████▎    | 1.0 MB 12.9 MB/s eta 0:00:01\r\u001b[K     |███████████████████████████▌    | 1.0 MB 12.9 MB/s eta 0:00:01\r\u001b[K     |███████████████████████████▉    | 1.1 MB 12.9 MB/s eta 0:00:01\r\u001b[K     |████████████████████████████    | 1.1 MB 12.9 MB/s eta 0:00:01\r\u001b[K     |████████████████████████████▍   | 1.1 MB 12.9 MB/s eta 0:00:01\r\u001b[K     |████████████████████████████▋   | 1.1 MB 12.9 MB/s eta 0:00:01\r\u001b[K     |████████████████████████████▉   | 1.1 MB 12.9 MB/s eta 0:00:01\r\u001b[K     |█████████████████████████████▏  | 1.1 MB 12.9 MB/s eta 0:00:01\r\u001b[K     |█████████████████████████████▍  | 1.1 MB 12.9 MB/s eta 0:00:01\r\u001b[K     |█████████████████████████████▊  | 1.1 MB 12.9 MB/s eta 0:00:01\r\u001b[K     |██████████████████████████████  | 1.1 MB 12.9 MB/s eta 0:00:01\r\u001b[K     |██████████████████████████████▎ | 1.1 MB 12.9 MB/s eta 0:00:01\r\u001b[K     |██████████████████████████████▌ | 1.2 MB 12.9 MB/s eta 0:00:01\r\u001b[K     |██████████████████████████████▊ | 1.2 MB 12.9 MB/s eta 0:00:01\r\u001b[K     |███████████████████████████████ | 1.2 MB 12.9 MB/s eta 0:00:01\r\u001b[K     |███████████████████████████████▎| 1.2 MB 12.9 MB/s eta 0:00:01\r\u001b[K     |███████████████████████████████▋| 1.2 MB 12.9 MB/s eta 0:00:01\r\u001b[K     |███████████████████████████████▉| 1.2 MB 12.9 MB/s eta 0:00:01\r\u001b[K     |████████████████████████████████| 1.2 MB 12.9 MB/s \n",
            "\u001b[?25hInstalling collected packages: sentencepiece\n",
            "Successfully installed sentencepiece-0.1.96\n"
          ]
        }
      ]
    },
    {
      "cell_type": "code",
      "source": [
        "from transformers import AlbertTokenizer\n",
        "from transformers import TFAlbertForSequenceClassification\n",
        "import sentencepiece\n",
        "\n",
        "model = TFAlbertForSequenceClassification.from_pretrained(\"albert-base-v2\", num_labels=3)\n",
        "tokenizer = AlbertTokenizer.from_pretrained('albert-base-v2')"
      ],
      "metadata": {
        "id": "YBTMzAXQYq2r",
        "colab": {
          "base_uri": "https://localhost:8080/",
          "height": 182,
          "referenced_widgets": [
            "e8f553bd5f7a4a109a31fd80fb2987c9",
            "ce7ecb8bb7d8489187512cdbd0b438d0",
            "a7f46eaed29241b7adfc81b0d2670734",
            "13cc0732fe8441cc99bde3a7d8e16575",
            "f31dcb0491b1452081183e757e47eae8",
            "f27d84e9e6394f1a821bb83f87c4b49f",
            "3dd9a8874cf94c04b46f2dca9238d3d5",
            "b1dd03a8f9c94c95bd128614ae8cf348",
            "ae52172672794b95a1e2bce6319be76b",
            "6f4f337251b14eceb81e84429cbd5af4",
            "d597e4ac0cbc4f06a123073772bd292d",
            "e2561c48b2494c5b999358b588a8ee0e",
            "acdabafd0db94c9aa3539680796b7954",
            "572bb3dbd2b9451998744e7a49cc9a39",
            "efd10dbf027444c986185312536c3a82",
            "54653930af494bd69cbaf8104ae05fe3",
            "eb741b63e9074230ac199008d90b4f0d",
            "b8856f0b7772410dbf766d819fe9f721",
            "2af6422be18f42fcab51bbc0003b4e86",
            "135b0eed94314c29998bbb09c0794704",
            "4b5f9e08fdd1498db87b461406059039",
            "59a06f4f71124ae081170e556083ef17",
            "8bb4cbbbf66a44e5a4e0cc08715ffc97",
            "f8b94624af384c7699ae262b581ab7eb",
            "7e58c5076f334d399d12ae097ac106bd",
            "e87f35465ca649e8873023ebc78bd8c5",
            "5c68e514244b4910a6bd2c0f86ebf865",
            "07aeb248cc2243b5a3452acdceb78441",
            "1cc2cc3d6fe944d9b6559302550138b0",
            "7bcd3a0fd9e349abbf50a8b2a65c3a7d",
            "709e42825a0645ad98033adc18811471",
            "be824de555994f87ac691e2b6b7342e2",
            "bfcb1a1d4b9f4b50980a0116d0b0efb9"
          ]
        },
        "outputId": "2823febc-7c33-45a8-dda1-285f5dac723a"
      },
      "execution_count": null,
      "outputs": [
        {
          "output_type": "display_data",
          "data": {
            "text/plain": [
              "Downloading:   0%|          | 0.00/684 [00:00<?, ?B/s]"
            ],
            "application/vnd.jupyter.widget-view+json": {
              "version_major": 2,
              "version_minor": 0,
              "model_id": "e8f553bd5f7a4a109a31fd80fb2987c9"
            }
          },
          "metadata": {}
        },
        {
          "output_type": "display_data",
          "data": {
            "text/plain": [
              "Downloading:   0%|          | 0.00/60.1M [00:00<?, ?B/s]"
            ],
            "application/vnd.jupyter.widget-view+json": {
              "version_major": 2,
              "version_minor": 0,
              "model_id": "e2561c48b2494c5b999358b588a8ee0e"
            }
          },
          "metadata": {}
        },
        {
          "output_type": "stream",
          "name": "stderr",
          "text": [
            "All model checkpoint layers were used when initializing TFAlbertForSequenceClassification.\n",
            "\n",
            "Some layers of TFAlbertForSequenceClassification were not initialized from the model checkpoint at albert-base-v2 and are newly initialized: ['classifier']\n",
            "You should probably TRAIN this model on a down-stream task to be able to use it for predictions and inference.\n"
          ]
        },
        {
          "output_type": "display_data",
          "data": {
            "text/plain": [
              "Downloading:   0%|          | 0.00/742k [00:00<?, ?B/s]"
            ],
            "application/vnd.jupyter.widget-view+json": {
              "version_major": 2,
              "version_minor": 0,
              "model_id": "8bb4cbbbf66a44e5a4e0cc08715ffc97"
            }
          },
          "metadata": {}
        }
      ]
    },
    {
      "cell_type": "code",
      "source": [
        "import tensorflow as tf\n",
        "from sklearn.model_selection import train_test_split"
      ],
      "metadata": {
        "id": "IADDd_PAHftF"
      },
      "execution_count": null,
      "outputs": []
    },
    {
      "cell_type": "code",
      "source": [
        "test_tweets_df = preprocess_tweets(\"final_tweets_test.txt\")\n",
        "train_tweets_df=preprocess_tweets(\"final_tweets_training.txt\")\n",
        "label_dict = {\"negative\": 0, \"neutral\": 2, \"positive\": 1}\n",
        "test_tweets_df[\"label\"] = test_tweets_df[\"label\"].apply(lambda x : label_dict[x])\n",
        "train_tweets_df[\"label\"] = train_tweets_df[\"label\"].apply(lambda x : label_dict[x])\n",
        "\n"
      ],
      "metadata": {
        "id": "OCoo0wq8cHo3"
      },
      "execution_count": null,
      "outputs": []
    },
    {
      "cell_type": "code",
      "source": [
        "test_tweets_df\n",
        "# train_tweets_df\n",
        "\n",
        "train,val = train_test_split(test_tweets_df, test_size=0.2)"
      ],
      "metadata": {
        "id": "9_xy9MGPclHI"
      },
      "execution_count": null,
      "outputs": []
    },
    {
      "cell_type": "code",
      "source": [
        "val"
      ],
      "metadata": {
        "colab": {
          "base_uri": "https://localhost:8080/",
          "height": 424
        },
        "id": "fr0oXHA0nhro",
        "outputId": "d6458cb0-03f4-472a-85de-493fb30bf9a1"
      },
      "execution_count": null,
      "outputs": [
        {
          "output_type": "execute_result",
          "data": {
            "text/plain": [
              "      label                                              tweet\n",
              "542       2    anxiety feel group text turns green thunderous \n",
              "61        2  breaking chicago cubs third baseman kris bryan...\n",
              "536       2  thats twice ol joe asked voter wanted step out...\n",
              "275       1  hate talking fucking virus im trying add anxie...\n",
              "133       0  sick sky news economics editor ed conway write...\n",
              "...     ...                                                ...\n",
              "2         0  turns donald trump potentially exposed coronav...\n",
              "1256      0  irresponsible pretending coronavirus cases don...\n",
              "855       2  news imelda staunton  play queen elizabeth ii ...\n",
              "392       1  celebrate release quentinblakehqs gorgeous new...\n",
              "803       2  andrewadonis there’s clear majority remain num...\n",
              "\n",
              "[258 rows x 2 columns]"
            ],
            "text/html": [
              "\n",
              "  <div id=\"df-6f917211-91f4-43df-b2fb-346f15cfcf8c\">\n",
              "    <div class=\"colab-df-container\">\n",
              "      <div>\n",
              "<style scoped>\n",
              "    .dataframe tbody tr th:only-of-type {\n",
              "        vertical-align: middle;\n",
              "    }\n",
              "\n",
              "    .dataframe tbody tr th {\n",
              "        vertical-align: top;\n",
              "    }\n",
              "\n",
              "    .dataframe thead th {\n",
              "        text-align: right;\n",
              "    }\n",
              "</style>\n",
              "<table border=\"1\" class=\"dataframe\">\n",
              "  <thead>\n",
              "    <tr style=\"text-align: right;\">\n",
              "      <th></th>\n",
              "      <th>label</th>\n",
              "      <th>tweet</th>\n",
              "    </tr>\n",
              "  </thead>\n",
              "  <tbody>\n",
              "    <tr>\n",
              "      <th>542</th>\n",
              "      <td>2</td>\n",
              "      <td>anxiety feel group text turns green thunderous</td>\n",
              "    </tr>\n",
              "    <tr>\n",
              "      <th>61</th>\n",
              "      <td>2</td>\n",
              "      <td>breaking chicago cubs third baseman kris bryan...</td>\n",
              "    </tr>\n",
              "    <tr>\n",
              "      <th>536</th>\n",
              "      <td>2</td>\n",
              "      <td>thats twice ol joe asked voter wanted step out...</td>\n",
              "    </tr>\n",
              "    <tr>\n",
              "      <th>275</th>\n",
              "      <td>1</td>\n",
              "      <td>hate talking fucking virus im trying add anxie...</td>\n",
              "    </tr>\n",
              "    <tr>\n",
              "      <th>133</th>\n",
              "      <td>0</td>\n",
              "      <td>sick sky news economics editor ed conway write...</td>\n",
              "    </tr>\n",
              "    <tr>\n",
              "      <th>...</th>\n",
              "      <td>...</td>\n",
              "      <td>...</td>\n",
              "    </tr>\n",
              "    <tr>\n",
              "      <th>2</th>\n",
              "      <td>0</td>\n",
              "      <td>turns donald trump potentially exposed coronav...</td>\n",
              "    </tr>\n",
              "    <tr>\n",
              "      <th>1256</th>\n",
              "      <td>0</td>\n",
              "      <td>irresponsible pretending coronavirus cases don...</td>\n",
              "    </tr>\n",
              "    <tr>\n",
              "      <th>855</th>\n",
              "      <td>2</td>\n",
              "      <td>news imelda staunton  play queen elizabeth ii ...</td>\n",
              "    </tr>\n",
              "    <tr>\n",
              "      <th>392</th>\n",
              "      <td>1</td>\n",
              "      <td>celebrate release quentinblakehqs gorgeous new...</td>\n",
              "    </tr>\n",
              "    <tr>\n",
              "      <th>803</th>\n",
              "      <td>2</td>\n",
              "      <td>andrewadonis there’s clear majority remain num...</td>\n",
              "    </tr>\n",
              "  </tbody>\n",
              "</table>\n",
              "<p>258 rows × 2 columns</p>\n",
              "</div>\n",
              "      <button class=\"colab-df-convert\" onclick=\"convertToInteractive('df-6f917211-91f4-43df-b2fb-346f15cfcf8c')\"\n",
              "              title=\"Convert this dataframe to an interactive table.\"\n",
              "              style=\"display:none;\">\n",
              "        \n",
              "  <svg xmlns=\"http://www.w3.org/2000/svg\" height=\"24px\"viewBox=\"0 0 24 24\"\n",
              "       width=\"24px\">\n",
              "    <path d=\"M0 0h24v24H0V0z\" fill=\"none\"/>\n",
              "    <path d=\"M18.56 5.44l.94 2.06.94-2.06 2.06-.94-2.06-.94-.94-2.06-.94 2.06-2.06.94zm-11 1L8.5 8.5l.94-2.06 2.06-.94-2.06-.94L8.5 2.5l-.94 2.06-2.06.94zm10 10l.94 2.06.94-2.06 2.06-.94-2.06-.94-.94-2.06-.94 2.06-2.06.94z\"/><path d=\"M17.41 7.96l-1.37-1.37c-.4-.4-.92-.59-1.43-.59-.52 0-1.04.2-1.43.59L10.3 9.45l-7.72 7.72c-.78.78-.78 2.05 0 2.83L4 21.41c.39.39.9.59 1.41.59.51 0 1.02-.2 1.41-.59l7.78-7.78 2.81-2.81c.8-.78.8-2.07 0-2.86zM5.41 20L4 18.59l7.72-7.72 1.47 1.35L5.41 20z\"/>\n",
              "  </svg>\n",
              "      </button>\n",
              "      \n",
              "  <style>\n",
              "    .colab-df-container {\n",
              "      display:flex;\n",
              "      flex-wrap:wrap;\n",
              "      gap: 12px;\n",
              "    }\n",
              "\n",
              "    .colab-df-convert {\n",
              "      background-color: #E8F0FE;\n",
              "      border: none;\n",
              "      border-radius: 50%;\n",
              "      cursor: pointer;\n",
              "      display: none;\n",
              "      fill: #1967D2;\n",
              "      height: 32px;\n",
              "      padding: 0 0 0 0;\n",
              "      width: 32px;\n",
              "    }\n",
              "\n",
              "    .colab-df-convert:hover {\n",
              "      background-color: #E2EBFA;\n",
              "      box-shadow: 0px 1px 2px rgba(60, 64, 67, 0.3), 0px 1px 3px 1px rgba(60, 64, 67, 0.15);\n",
              "      fill: #174EA6;\n",
              "    }\n",
              "\n",
              "    [theme=dark] .colab-df-convert {\n",
              "      background-color: #3B4455;\n",
              "      fill: #D2E3FC;\n",
              "    }\n",
              "\n",
              "    [theme=dark] .colab-df-convert:hover {\n",
              "      background-color: #434B5C;\n",
              "      box-shadow: 0px 1px 3px 1px rgba(0, 0, 0, 0.15);\n",
              "      filter: drop-shadow(0px 1px 2px rgba(0, 0, 0, 0.3));\n",
              "      fill: #FFFFFF;\n",
              "    }\n",
              "  </style>\n",
              "\n",
              "      <script>\n",
              "        const buttonEl =\n",
              "          document.querySelector('#df-6f917211-91f4-43df-b2fb-346f15cfcf8c button.colab-df-convert');\n",
              "        buttonEl.style.display =\n",
              "          google.colab.kernel.accessAllowed ? 'block' : 'none';\n",
              "\n",
              "        async function convertToInteractive(key) {\n",
              "          const element = document.querySelector('#df-6f917211-91f4-43df-b2fb-346f15cfcf8c');\n",
              "          const dataTable =\n",
              "            await google.colab.kernel.invokeFunction('convertToInteractive',\n",
              "                                                     [key], {});\n",
              "          if (!dataTable) return;\n",
              "\n",
              "          const docLinkHtml = 'Like what you see? Visit the ' +\n",
              "            '<a target=\"_blank\" href=https://colab.research.google.com/notebooks/data_table.ipynb>data table notebook</a>'\n",
              "            + ' to learn more about interactive tables.';\n",
              "          element.innerHTML = '';\n",
              "          dataTable['output_type'] = 'display_data';\n",
              "          await google.colab.output.renderOutput(dataTable, element);\n",
              "          const docLink = document.createElement('div');\n",
              "          docLink.innerHTML = docLinkHtml;\n",
              "          element.appendChild(docLink);\n",
              "        }\n",
              "      </script>\n",
              "    </div>\n",
              "  </div>\n",
              "  "
            ]
          },
          "metadata": {},
          "execution_count": 10
        }
      ]
    },
    {
      "cell_type": "code",
      "source": [
        "from transformers import InputExample, InputFeatures\n",
        "def convert_data_to_examples(train, test, DATA_COLUMN, LABEL_COLUMN): \n",
        "  train_InputExamples = train.apply(lambda x: InputExample(guid=None, # Globally unique ID for bookkeeping, unused in this case\n",
        "                                                          text_a = x[DATA_COLUMN], \n",
        "                                                          text_b = None,\n",
        "                                                          label = x[LABEL_COLUMN]), axis = 1)\n",
        "\n",
        "  validation_InputExamples = test.apply(lambda x: InputExample(guid=None, # Globally unique ID for bookkeeping, unused in this case\n",
        "                                                          text_a = x[DATA_COLUMN], \n",
        "                                                          text_b = None,\n",
        "                                                          label = x[LABEL_COLUMN]), axis = 1)\n",
        "  \n",
        "  return train_InputExamples, validation_InputExamples\n",
        "\n",
        "  train_InputExamples, validation_InputExamples = convert_data_to_examples(train, \n",
        "                                                                           test, \n",
        "                                                                           'DATA_COLUMN', \n",
        "                                                                           'LABEL_COLUMN')\n",
        "  \n",
        "def convert_examples_to_tf_dataset(examples, tokenizer, max_length=60):\n",
        "    features = [] # -> will hold InputFeatures to be converted later\n",
        "\n",
        "    for e in examples:\n",
        "        # Documentation is really strong for this method, so please take a look at it\n",
        "        input_dict = tokenizer.encode_plus(\n",
        "            e.text_a,\n",
        "            add_special_tokens=True,\n",
        "            max_length=max_length, # truncates if len(s) > max_length\n",
        "            return_token_type_ids=True,\n",
        "            return_attention_mask=True,\n",
        "            pad_to_max_length=True, # pads to the right by default # CHECK THIS for pad_to_max_length\n",
        "            truncation=True\n",
        "        )\n",
        "\n",
        "        input_ids, token_type_ids, attention_mask = (input_dict[\"input_ids\"],\n",
        "            input_dict[\"token_type_ids\"], input_dict['attention_mask'])\n",
        "\n",
        "        features.append(\n",
        "            InputFeatures(\n",
        "                input_ids=input_ids, attention_mask=attention_mask, token_type_ids=token_type_ids, label=e.label\n",
        "            )\n",
        "        )\n",
        "\n",
        "    def gen():\n",
        "        for f in features:\n",
        "            yield (\n",
        "                {\n",
        "                    \"input_ids\": f.input_ids,\n",
        "                    \"attention_mask\": f.attention_mask,\n",
        "                    \"token_type_ids\": f.token_type_ids,\n",
        "                },\n",
        "                f.label,\n",
        "            )\n",
        "\n",
        "    return tf.data.Dataset.from_generator(\n",
        "        gen,\n",
        "        ({\"input_ids\": tf.int32, \"attention_mask\": tf.int32, \"token_type_ids\": tf.int32}, tf.int64),\n",
        "        (\n",
        "            {\n",
        "                \"input_ids\": tf.TensorShape([None]),\n",
        "                \"attention_mask\": tf.TensorShape([None]),\n",
        "                \"token_type_ids\": tf.TensorShape([None]),\n",
        "            },\n",
        "            tf.TensorShape([]),\n",
        "        ),\n",
        "    )\n",
        "\n",
        "\n",
        "DATA_COLUMN = 'tweet'\n",
        "LABEL_COLUMN = 'label'"
      ],
      "metadata": {
        "id": "g4p-cTzPenj3"
      },
      "execution_count": null,
      "outputs": []
    },
    {
      "cell_type": "code",
      "source": [
        "train_InputExamples, validation_InputExamples = convert_data_to_examples(train, val, DATA_COLUMN, LABEL_COLUMN)\n",
        "\n",
        "train_data = convert_examples_to_tf_dataset(list(train_InputExamples), tokenizer)\n",
        "train_data = train_data.shuffle(100).batch(32).repeat(2)\n",
        "\n",
        "validation_data = convert_examples_to_tf_dataset(list(validation_InputExamples), tokenizer)\n",
        "validation_data = validation_data.batch(32)"
      ],
      "metadata": {
        "colab": {
          "base_uri": "https://localhost:8080/"
        },
        "id": "0g1uKnH8lwM4",
        "outputId": "fb837b8a-4c94-49d3-a596-e7ab86e45395"
      },
      "execution_count": null,
      "outputs": [
        {
          "output_type": "stream",
          "name": "stderr",
          "text": [
            "/usr/local/lib/python3.7/dist-packages/transformers/tokenization_utils_base.py:2269: FutureWarning: The `pad_to_max_length` argument is deprecated and will be removed in a future version, use `padding=True` or `padding='longest'` to pad to the longest sequence in the batch, or use `padding='max_length'` to pad to a max length. In this case, you can give a specific length with `max_length` (e.g. `max_length=45`) or leave max_length to None to pad to the maximal input size of the model (e.g. 512 for Bert).\n",
            "  FutureWarning,\n"
          ]
        }
      ]
    },
    {
      "cell_type": "code",
      "source": [
        "# model.compile(optimizer=tf.keras.optimizers.Adam(learning_rate=3e-5, epsilon=1e-08, clipnorm=1.0), \n",
        "#               loss=tf.keras.losses.SparseCategoricalCrossentropy(from_logits=True), \n",
        "#               metrics=[tf.keras.metrics.SparseCategoricalAccuracy('accuracy')])\n",
        "optimizer = tf.keras.optimizers.Adam(learning_rate=3e-5, epsilon=1e-08)\n",
        "loss=tf.keras.losses.SparseCategoricalCrossentropy(from_logits=True)\n",
        "metric = tf.keras.metrics.SparseCategoricalAccuracy('accuracy')\n",
        "model.compile(optimizer=optimizer, loss=loss, metrics=[metric])\n"
      ],
      "metadata": {
        "id": "o9Cr8sCMi60V"
      },
      "execution_count": null,
      "outputs": []
    },
    {
      "cell_type": "code",
      "source": [
        "# model.fit(train_data, epochs=3, validation_data=validation_data)\n",
        "model.fit(train_data, \n",
        "          epochs=3, \n",
        "          validation_data=validation_data)"
      ],
      "metadata": {
        "colab": {
          "base_uri": "https://localhost:8080/"
        },
        "id": "N6fUnab0v549",
        "outputId": "ffc33927-f976-4f22-aa7b-0cdbff0f3d44"
      },
      "execution_count": null,
      "outputs": [
        {
          "output_type": "stream",
          "name": "stdout",
          "text": [
            "Epoch 1/3\n",
            "66/66 [==============================] - 110s 800ms/step - loss: 0.9343 - accuracy: 0.5544 - val_loss: 0.8870 - val_accuracy: 0.5543\n",
            "Epoch 2/3\n",
            "66/66 [==============================] - 49s 735ms/step - loss: 0.6941 - accuracy: 0.6983 - val_loss: 1.0173 - val_accuracy: 0.5659\n",
            "Epoch 3/3\n",
            "66/66 [==============================] - 49s 745ms/step - loss: 0.5209 - accuracy: 0.8003 - val_loss: 1.1409 - val_accuracy: 0.5310\n"
          ]
        },
        {
          "output_type": "execute_result",
          "data": {
            "text/plain": [
              "<keras.callbacks.History at 0x7efe705b4150>"
            ]
          },
          "metadata": {},
          "execution_count": 14
        }
      ]
    },
    {
      "cell_type": "code",
      "source": [
        "from sklearn.metrics import confusion_matrix\n",
        "from sklearn.metrics import ConfusionMatrixDisplay\n",
        "from sklearn.metrics import accuracy_score\n",
        "from sklearn.metrics import f1_score"
      ],
      "metadata": {
        "id": "EJ6REWHa-4wA"
      },
      "execution_count": null,
      "outputs": []
    },
    {
      "cell_type": "code",
      "source": [
        "pred_sentences=val['tweet'].values.tolist()\n",
        "\n",
        "tf_batch = tokenizer(pred_sentences, max_length=60, padding=True, truncation=True, return_tensors='tf')\n",
        "tf_outputs = model(tf_batch)\n",
        "tf_predictions = tf.nn.softmax(tf_outputs[0], axis=-1)\n",
        "label = tf.argmax(tf_predictions, axis=1)\n",
        "label = label.numpy()\n",
        "ConfusionMatrixDisplay.from_predictions(val[\"label\"], label)\n",
        "print(accuracy_score(val['label'],label))"
      ],
      "metadata": {
        "colab": {
          "base_uri": "https://localhost:8080/",
          "height": 296
        },
        "id": "_AIhF3QKxEO2",
        "outputId": "06afd473-5f88-46cd-d51d-42e081a11038"
      },
      "execution_count": null,
      "outputs": [
        {
          "output_type": "stream",
          "name": "stdout",
          "text": [
            "0.5310077519379846\n"
          ]
        },
        {
          "output_type": "display_data",
          "data": {
            "text/plain": [
              "<Figure size 432x288 with 2 Axes>"
            ],
            "image/png": "[encoded data removed]"
          },
          "metadata": {
            "needs_background": "light"
          }
        }
      ]
    },
    {
      "cell_type": "code",
      "source": [
        "#drop neutral\n",
        "test_tweets_df=test_tweets_df[test_tweets_df.label != 2]\n",
        "train_tweets_df=train_tweets_df[train_tweets_df.label != 2]\n",
        "\n",
        "train,val = train_test_split(test_tweets_df, test_size=0.2)\n",
        "\n",
        "train_InputExamples, validation_InputExamples = convert_data_to_examples(train, val, DATA_COLUMN, LABEL_COLUMN)\n",
        "\n",
        "train_data = convert_examples_to_tf_dataset(list(train_InputExamples), tokenizer)\n",
        "train_data = train_data.shuffle(100).batch(32).repeat(2)\n",
        "\n",
        "validation_data = convert_examples_to_tf_dataset(list(validation_InputExamples), tokenizer)\n",
        "validation_data = validation_data.batch(32)"
      ],
      "metadata": {
        "colab": {
          "base_uri": "https://localhost:8080/"
        },
        "id": "hjHNYgsXQ6wy",
        "outputId": "f521c551-2149-43b1-b4a8-048b93848968"
      },
      "execution_count": null,
      "outputs": [
        {
          "output_type": "stream",
          "name": "stderr",
          "text": [
            "/usr/local/lib/python3.7/dist-packages/transformers/tokenization_utils_base.py:2269: FutureWarning: The `pad_to_max_length` argument is deprecated and will be removed in a future version, use `padding=True` or `padding='longest'` to pad to the longest sequence in the batch, or use `padding='max_length'` to pad to a max length. In this case, you can give a specific length with `max_length` (e.g. `max_length=45`) or leave max_length to None to pad to the maximal input size of the model (e.g. 512 for Bert).\n",
            "  FutureWarning,\n"
          ]
        }
      ]
    },
    {
      "cell_type": "code",
      "source": [
        "model2 = TFAlbertForSequenceClassification.from_pretrained(\"albert-base-v2\")\n",
        "tokenizer = AlbertTokenizer.from_pretrained('albert-base-v2')"
      ],
      "metadata": {
        "colab": {
          "base_uri": "https://localhost:8080/"
        },
        "id": "tzEe4NCXFTA1",
        "outputId": "0ba9e01d-b84f-411c-f5cf-b8f6bf9ba7a3"
      },
      "execution_count": null,
      "outputs": [
        {
          "output_type": "stream",
          "name": "stderr",
          "text": [
            "All model checkpoint layers were used when initializing TFAlbertForSequenceClassification.\n",
            "\n",
            "Some layers of TFAlbertForSequenceClassification were not initialized from the model checkpoint at albert-base-v2 and are newly initialized: ['classifier']\n",
            "You should probably TRAIN this model on a down-stream task to be able to use it for predictions and inference.\n"
          ]
        }
      ]
    },
    {
      "cell_type": "code",
      "source": [
        "model2.compile(optimizer=tf.keras.optimizers.Adam(learning_rate=3e-5, epsilon=1e-08, clipnorm=1.0), \n",
        "              loss=tf.keras.losses.SparseCategoricalCrossentropy(from_logits=True), \n",
        "              metrics=[tf.keras.metrics.SparseCategoricalAccuracy('accuracy')])\n",
        "\n",
        "model2.fit(train_data, epochs=3, validation_data=validation_data)"
      ],
      "metadata": {
        "colab": {
          "base_uri": "https://localhost:8080/"
        },
        "id": "u-J-MrFaE0yz",
        "outputId": "68f5f38a-fb5e-4678-e91b-23c83be77348"
      },
      "execution_count": null,
      "outputs": [
        {
          "output_type": "stream",
          "name": "stdout",
          "text": [
            "Epoch 1/3\n",
            "46/46 [==============================] - 58s 821ms/step - loss: 0.4586 - accuracy: 0.7838 - val_loss: 0.3556 - val_accuracy: 0.8785\n",
            "Epoch 2/3\n",
            "46/46 [==============================] - 34s 747ms/step - loss: 0.2153 - accuracy: 0.9247 - val_loss: 0.4321 - val_accuracy: 0.8508\n",
            "Epoch 3/3\n",
            "46/46 [==============================] - 35s 751ms/step - loss: 0.1165 - accuracy: 0.9662 - val_loss: 0.5663 - val_accuracy: 0.8729\n"
          ]
        },
        {
          "output_type": "execute_result",
          "data": {
            "text/plain": [
              "<keras.callbacks.History at 0x7efe009440d0>"
            ]
          },
          "metadata": {},
          "execution_count": 20
        }
      ]
    },
    {
      "cell_type": "code",
      "source": [
        "pred_sentences=val['tweet'].values.tolist()\n",
        "\n",
        "tf_batch = tokenizer(pred_sentences, max_length=60, padding=True, truncation=True, return_tensors='tf')\n",
        "tf_outputs = model2(tf_batch)\n",
        "tf_predictions = tf.nn.softmax(tf_outputs[0], axis=-1)\n",
        "label = tf.argmax(tf_predictions, axis=1)\n",
        "label = label.numpy()\n",
        "ConfusionMatrixDisplay.from_predictions(val[\"label\"], label)\n",
        "print(accuracy_score(val['label'],label))\n",
        "print(f1_score(val['label'],label))"
      ],
      "metadata": {
        "colab": {
          "base_uri": "https://localhost:8080/",
          "height": 314
        },
        "id": "wqOH_9p2FZCY",
        "outputId": "1fb0c3f3-fa10-42f5-fc9b-f8ab108dbc6d"
      },
      "execution_count": null,
      "outputs": [
        {
          "output_type": "stream",
          "name": "stdout",
          "text": [
            "0.8729281767955801\n",
            "0.8435374149659863\n"
          ]
        },
        {
          "output_type": "display_data",
          "data": {
            "text/plain": [
              "<Figure size 432x288 with 2 Axes>"
            ],
            "image/png": "[encoded data removed]"
          },
          "metadata": {
            "needs_background": "light"
          }
        }
      ]
    }
  ]
}